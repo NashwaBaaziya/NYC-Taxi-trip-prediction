{
 "cells": [
  {
   "cell_type": "markdown",
   "id": "cf3c1b34",
   "metadata": {},
   "source": [
    "### NYC TAXI TRIP DURATION PREDICTION\n"
   ]
  },
  {
   "cell_type": "markdown",
   "id": "30667981",
   "metadata": {},
   "source": [
    "In this project we are provided with the NYC Taxi Trip Dataset. This dataset contains information about the taxi trips that took place in different parts of New York City and how much time did that trip take to complete. The dataset contains 729322 trip records.The objective is to explore various attributes and build a Predictive model that predicts the total trip duration of taxi trips in New York City\n",
    "\n",
    "Data attributes info\n",
    "\n",
    "● id - a unique identifier for each trip\n",
    "\n",
    "● vendor_id - a code indicating the service provider associated with the trip record\n",
    "\n",
    "● pickup_datetime - date and time when the meter was engaged\n",
    "\n",
    "● dropoff_datetime - date and time when the meter was disengaged\n",
    "\n",
    "● passenger_count - the number of passengers in the vehicle \n",
    "\n",
    "● pickup_longitude - the longitude where the meter was engaged\n",
    "\n",
    "● pickup_latitude - the latitude where the meter was engaged\n",
    "\n",
    "● dropoff_longitude - the longitude where the meter was disengaged\n",
    "\n",
    "● dropoff_latitude - the latitude where the meter was disengaged\n",
    "\n",
    "● store_and_fwd_flag - This flag indicates whether the trip record was held in vehicle memory before sending to the vendor because the vehicle did not have a connection to the server - Y=store and forward; N=not a store and forward trip\n",
    "\n",
    "● trip_duration - duration of the trip in seconds"
   ]
  },
  {
   "cell_type": "code",
   "execution_count": 2,
   "id": "22f0fbc4",
   "metadata": {},
   "outputs": [],
   "source": [
    "#importing required libraries\n",
    "\n",
    "import pandas as pd\n",
    "import numpy as np\n",
    "import matplotlib.pyplot as plt\n",
    "import seaborn as sns\n",
    "from datetime import datetime\n",
    "import datetime"
   ]
  },
  {
   "cell_type": "code",
   "execution_count": null,
   "id": "d549b5a9",
   "metadata": {},
   "outputs": [],
   "source": []
  },
  {
   "cell_type": "code",
   "execution_count": 3,
   "id": "0a2d0fb2",
   "metadata": {},
   "outputs": [],
   "source": [
    "#loading dataset\n",
    "data=pd.read_csv(\"nyc_taxi_trip_duration_pred.csv\")"
   ]
  },
  {
   "cell_type": "code",
   "execution_count": 4,
   "id": "32e319e6",
   "metadata": {},
   "outputs": [
    {
     "data": {
      "text/html": [
       "<div>\n",
       "<style scoped>\n",
       "    .dataframe tbody tr th:only-of-type {\n",
       "        vertical-align: middle;\n",
       "    }\n",
       "\n",
       "    .dataframe tbody tr th {\n",
       "        vertical-align: top;\n",
       "    }\n",
       "\n",
       "    .dataframe thead th {\n",
       "        text-align: right;\n",
       "    }\n",
       "</style>\n",
       "<table border=\"1\" class=\"dataframe\">\n",
       "  <thead>\n",
       "    <tr style=\"text-align: right;\">\n",
       "      <th></th>\n",
       "      <th>id</th>\n",
       "      <th>vendor_id</th>\n",
       "      <th>pickup_datetime</th>\n",
       "      <th>dropoff_datetime</th>\n",
       "      <th>passenger_count</th>\n",
       "      <th>pickup_longitude</th>\n",
       "      <th>pickup_latitude</th>\n",
       "      <th>dropoff_longitude</th>\n",
       "      <th>dropoff_latitude</th>\n",
       "      <th>store_and_fwd_flag</th>\n",
       "      <th>trip_duration</th>\n",
       "    </tr>\n",
       "  </thead>\n",
       "  <tbody>\n",
       "    <tr>\n",
       "      <th>0</th>\n",
       "      <td>id1080784</td>\n",
       "      <td>2</td>\n",
       "      <td>29-02-2016 16:40</td>\n",
       "      <td>29-02-2016 16:47</td>\n",
       "      <td>1</td>\n",
       "      <td>-73.953918</td>\n",
       "      <td>40.778873</td>\n",
       "      <td>-73.963875</td>\n",
       "      <td>40.771164</td>\n",
       "      <td>N</td>\n",
       "      <td>400</td>\n",
       "    </tr>\n",
       "    <tr>\n",
       "      <th>1</th>\n",
       "      <td>id0889885</td>\n",
       "      <td>1</td>\n",
       "      <td>11-03-2016 23:35</td>\n",
       "      <td>11-03-2016 23:53</td>\n",
       "      <td>2</td>\n",
       "      <td>-73.988312</td>\n",
       "      <td>40.731743</td>\n",
       "      <td>-73.994751</td>\n",
       "      <td>40.694931</td>\n",
       "      <td>N</td>\n",
       "      <td>1100</td>\n",
       "    </tr>\n",
       "    <tr>\n",
       "      <th>2</th>\n",
       "      <td>id0857912</td>\n",
       "      <td>2</td>\n",
       "      <td>21-02-2016 17:59</td>\n",
       "      <td>21-02-2016 18:26</td>\n",
       "      <td>2</td>\n",
       "      <td>-73.997314</td>\n",
       "      <td>40.721458</td>\n",
       "      <td>-73.948029</td>\n",
       "      <td>40.774918</td>\n",
       "      <td>N</td>\n",
       "      <td>1635</td>\n",
       "    </tr>\n",
       "    <tr>\n",
       "      <th>3</th>\n",
       "      <td>id3744273</td>\n",
       "      <td>2</td>\n",
       "      <td>05-01-2016 09:44</td>\n",
       "      <td>05-01-2016 10:03</td>\n",
       "      <td>6</td>\n",
       "      <td>-73.961670</td>\n",
       "      <td>40.759720</td>\n",
       "      <td>-73.956779</td>\n",
       "      <td>40.780628</td>\n",
       "      <td>N</td>\n",
       "      <td>1141</td>\n",
       "    </tr>\n",
       "    <tr>\n",
       "      <th>4</th>\n",
       "      <td>id0232939</td>\n",
       "      <td>1</td>\n",
       "      <td>17-02-2016 06:42</td>\n",
       "      <td>17-02-2016 06:56</td>\n",
       "      <td>1</td>\n",
       "      <td>-74.017120</td>\n",
       "      <td>40.708469</td>\n",
       "      <td>-73.988182</td>\n",
       "      <td>40.740631</td>\n",
       "      <td>N</td>\n",
       "      <td>848</td>\n",
       "    </tr>\n",
       "  </tbody>\n",
       "</table>\n",
       "</div>"
      ],
      "text/plain": [
       "          id  vendor_id   pickup_datetime  dropoff_datetime  passenger_count  \\\n",
       "0  id1080784          2  29-02-2016 16:40  29-02-2016 16:47                1   \n",
       "1  id0889885          1  11-03-2016 23:35  11-03-2016 23:53                2   \n",
       "2  id0857912          2  21-02-2016 17:59  21-02-2016 18:26                2   \n",
       "3  id3744273          2  05-01-2016 09:44  05-01-2016 10:03                6   \n",
       "4  id0232939          1  17-02-2016 06:42  17-02-2016 06:56                1   \n",
       "\n",
       "   pickup_longitude  pickup_latitude  dropoff_longitude  dropoff_latitude  \\\n",
       "0        -73.953918        40.778873         -73.963875         40.771164   \n",
       "1        -73.988312        40.731743         -73.994751         40.694931   \n",
       "2        -73.997314        40.721458         -73.948029         40.774918   \n",
       "3        -73.961670        40.759720         -73.956779         40.780628   \n",
       "4        -74.017120        40.708469         -73.988182         40.740631   \n",
       "\n",
       "  store_and_fwd_flag  trip_duration  \n",
       "0                  N            400  \n",
       "1                  N           1100  \n",
       "2                  N           1635  \n",
       "3                  N           1141  \n",
       "4                  N            848  "
      ]
     },
     "execution_count": 4,
     "metadata": {},
     "output_type": "execute_result"
    }
   ],
   "source": [
    "data.head()"
   ]
  },
  {
   "cell_type": "code",
   "execution_count": 5,
   "id": "f3085063",
   "metadata": {},
   "outputs": [
    {
     "data": {
      "text/plain": [
       "(20026, 11)"
      ]
     },
     "execution_count": 5,
     "metadata": {},
     "output_type": "execute_result"
    }
   ],
   "source": [
    "data.shape"
   ]
  },
  {
   "cell_type": "code",
   "execution_count": 5,
   "id": "caff3c58",
   "metadata": {},
   "outputs": [
    {
     "data": {
      "text/plain": [
       "Index(['id', 'vendor_id', 'pickup_datetime', 'dropoff_datetime',\n",
       "       'passenger_count', 'pickup_longitude', 'pickup_latitude',\n",
       "       'dropoff_longitude', 'dropoff_latitude', 'store_and_fwd_flag',\n",
       "       'trip_duration'],\n",
       "      dtype='object')"
      ]
     },
     "execution_count": 5,
     "metadata": {},
     "output_type": "execute_result"
    }
   ],
   "source": [
    "data.columns"
   ]
  },
  {
   "cell_type": "code",
   "execution_count": 6,
   "id": "ef09c893",
   "metadata": {},
   "outputs": [
    {
     "data": {
      "text/plain": [
       "id                     object\n",
       "vendor_id               int64\n",
       "pickup_datetime        object\n",
       "dropoff_datetime       object\n",
       "passenger_count         int64\n",
       "pickup_longitude      float64\n",
       "pickup_latitude       float64\n",
       "dropoff_longitude     float64\n",
       "dropoff_latitude      float64\n",
       "store_and_fwd_flag     object\n",
       "trip_duration           int64\n",
       "dtype: object"
      ]
     },
     "execution_count": 6,
     "metadata": {},
     "output_type": "execute_result"
    }
   ],
   "source": [
    "data.dtypes"
   ]
  },
  {
   "cell_type": "code",
   "execution_count": 7,
   "id": "0998ae9e",
   "metadata": {},
   "outputs": [],
   "source": [
    "#DateTime columns for Pickup and Dropoff needs Feature extraction as there might be lots of hidden info.\n",
    "#converting datatype of 'pickup_datetime' and 'dropoff_datetime' to datetime\n",
    "\n",
    "data['pickup_datetime']=pd.to_datetime(data['pickup_datetime'])\n",
    "data['dropoff_datetime']=pd.to_datetime(data['dropoff_datetime'])"
   ]
  },
  {
   "cell_type": "code",
   "execution_count": 8,
   "id": "c7cf7b46",
   "metadata": {},
   "outputs": [
    {
     "data": {
      "text/plain": [
       "id                            object\n",
       "vendor_id                      int64\n",
       "pickup_datetime       datetime64[ns]\n",
       "dropoff_datetime      datetime64[ns]\n",
       "passenger_count                int64\n",
       "pickup_longitude             float64\n",
       "pickup_latitude              float64\n",
       "dropoff_longitude            float64\n",
       "dropoff_latitude             float64\n",
       "store_and_fwd_flag            object\n",
       "trip_duration                  int64\n",
       "dtype: object"
      ]
     },
     "execution_count": 8,
     "metadata": {},
     "output_type": "execute_result"
    }
   ],
   "source": [
    "#checking\n",
    "\n",
    "data.dtypes"
   ]
  },
  {
   "cell_type": "markdown",
   "id": "b857e874",
   "metadata": {},
   "source": [
    "FEATURE ENGINEERING\n",
    "Date and time columns in the Dataset has whole lot story to tell, so we have to fetch them as separate features."
   ]
  },
  {
   "cell_type": "code",
   "execution_count": 9,
   "id": "257d2d14",
   "metadata": {},
   "outputs": [],
   "source": [
    "#Extracting day, month, hour, weekday from datetime\n",
    "\n",
    "data['pickup_day'] = data['pickup_datetime'].dt.day\n",
    "data['dropoff_day'] = data['dropoff_datetime'].dt.day\n",
    "\n",
    "data['pickup_month'] = data['pickup_datetime'].dt.month\n",
    "data['dropoff_month'] = data['dropoff_datetime'].dt.month\n",
    "\n",
    "data['pickup_hour'] = data['pickup_datetime'].dt.hour\n",
    "data['dropoff_hour'] = data['dropoff_datetime'].dt.hour\n",
    "\n",
    "data['pickup_weekday'] = data['pickup_datetime'].dt.weekday\n",
    "data['dropoff_weekday'] = data['dropoff_datetime'].dt.weekday"
   ]
  },
  {
   "cell_type": "code",
   "execution_count": 10,
   "id": "d33f7570",
   "metadata": {},
   "outputs": [
    {
     "data": {
      "text/html": [
       "<div>\n",
       "<style scoped>\n",
       "    .dataframe tbody tr th:only-of-type {\n",
       "        vertical-align: middle;\n",
       "    }\n",
       "\n",
       "    .dataframe tbody tr th {\n",
       "        vertical-align: top;\n",
       "    }\n",
       "\n",
       "    .dataframe thead th {\n",
       "        text-align: right;\n",
       "    }\n",
       "</style>\n",
       "<table border=\"1\" class=\"dataframe\">\n",
       "  <thead>\n",
       "    <tr style=\"text-align: right;\">\n",
       "      <th></th>\n",
       "      <th>id</th>\n",
       "      <th>vendor_id</th>\n",
       "      <th>pickup_datetime</th>\n",
       "      <th>dropoff_datetime</th>\n",
       "      <th>passenger_count</th>\n",
       "      <th>pickup_longitude</th>\n",
       "      <th>pickup_latitude</th>\n",
       "      <th>dropoff_longitude</th>\n",
       "      <th>dropoff_latitude</th>\n",
       "      <th>store_and_fwd_flag</th>\n",
       "      <th>trip_duration</th>\n",
       "      <th>pickup_day</th>\n",
       "      <th>dropoff_day</th>\n",
       "      <th>pickup_month</th>\n",
       "      <th>dropoff_month</th>\n",
       "      <th>pickup_hour</th>\n",
       "      <th>dropoff_hour</th>\n",
       "      <th>pickup_weekday</th>\n",
       "      <th>dropoff_weekday</th>\n",
       "    </tr>\n",
       "  </thead>\n",
       "  <tbody>\n",
       "    <tr>\n",
       "      <th>0</th>\n",
       "      <td>id1080784</td>\n",
       "      <td>2</td>\n",
       "      <td>2016-02-29 16:40:00</td>\n",
       "      <td>2016-02-29 16:47:00</td>\n",
       "      <td>1</td>\n",
       "      <td>-73.953918</td>\n",
       "      <td>40.778873</td>\n",
       "      <td>-73.963875</td>\n",
       "      <td>40.771164</td>\n",
       "      <td>N</td>\n",
       "      <td>400</td>\n",
       "      <td>29</td>\n",
       "      <td>29</td>\n",
       "      <td>2</td>\n",
       "      <td>2</td>\n",
       "      <td>16</td>\n",
       "      <td>16</td>\n",
       "      <td>0</td>\n",
       "      <td>0</td>\n",
       "    </tr>\n",
       "    <tr>\n",
       "      <th>1</th>\n",
       "      <td>id0889885</td>\n",
       "      <td>1</td>\n",
       "      <td>2016-11-03 23:35:00</td>\n",
       "      <td>2016-11-03 23:53:00</td>\n",
       "      <td>2</td>\n",
       "      <td>-73.988312</td>\n",
       "      <td>40.731743</td>\n",
       "      <td>-73.994751</td>\n",
       "      <td>40.694931</td>\n",
       "      <td>N</td>\n",
       "      <td>1100</td>\n",
       "      <td>3</td>\n",
       "      <td>3</td>\n",
       "      <td>11</td>\n",
       "      <td>11</td>\n",
       "      <td>23</td>\n",
       "      <td>23</td>\n",
       "      <td>3</td>\n",
       "      <td>3</td>\n",
       "    </tr>\n",
       "    <tr>\n",
       "      <th>2</th>\n",
       "      <td>id0857912</td>\n",
       "      <td>2</td>\n",
       "      <td>2016-02-21 17:59:00</td>\n",
       "      <td>2016-02-21 18:26:00</td>\n",
       "      <td>2</td>\n",
       "      <td>-73.997314</td>\n",
       "      <td>40.721458</td>\n",
       "      <td>-73.948029</td>\n",
       "      <td>40.774918</td>\n",
       "      <td>N</td>\n",
       "      <td>1635</td>\n",
       "      <td>21</td>\n",
       "      <td>21</td>\n",
       "      <td>2</td>\n",
       "      <td>2</td>\n",
       "      <td>17</td>\n",
       "      <td>18</td>\n",
       "      <td>6</td>\n",
       "      <td>6</td>\n",
       "    </tr>\n",
       "    <tr>\n",
       "      <th>3</th>\n",
       "      <td>id3744273</td>\n",
       "      <td>2</td>\n",
       "      <td>2016-05-01 09:44:00</td>\n",
       "      <td>2016-05-01 10:03:00</td>\n",
       "      <td>6</td>\n",
       "      <td>-73.961670</td>\n",
       "      <td>40.759720</td>\n",
       "      <td>-73.956779</td>\n",
       "      <td>40.780628</td>\n",
       "      <td>N</td>\n",
       "      <td>1141</td>\n",
       "      <td>1</td>\n",
       "      <td>1</td>\n",
       "      <td>5</td>\n",
       "      <td>5</td>\n",
       "      <td>9</td>\n",
       "      <td>10</td>\n",
       "      <td>6</td>\n",
       "      <td>6</td>\n",
       "    </tr>\n",
       "    <tr>\n",
       "      <th>4</th>\n",
       "      <td>id0232939</td>\n",
       "      <td>1</td>\n",
       "      <td>2016-02-17 06:42:00</td>\n",
       "      <td>2016-02-17 06:56:00</td>\n",
       "      <td>1</td>\n",
       "      <td>-74.017120</td>\n",
       "      <td>40.708469</td>\n",
       "      <td>-73.988182</td>\n",
       "      <td>40.740631</td>\n",
       "      <td>N</td>\n",
       "      <td>848</td>\n",
       "      <td>17</td>\n",
       "      <td>17</td>\n",
       "      <td>2</td>\n",
       "      <td>2</td>\n",
       "      <td>6</td>\n",
       "      <td>6</td>\n",
       "      <td>2</td>\n",
       "      <td>2</td>\n",
       "    </tr>\n",
       "  </tbody>\n",
       "</table>\n",
       "</div>"
      ],
      "text/plain": [
       "          id  vendor_id     pickup_datetime    dropoff_datetime  \\\n",
       "0  id1080784          2 2016-02-29 16:40:00 2016-02-29 16:47:00   \n",
       "1  id0889885          1 2016-11-03 23:35:00 2016-11-03 23:53:00   \n",
       "2  id0857912          2 2016-02-21 17:59:00 2016-02-21 18:26:00   \n",
       "3  id3744273          2 2016-05-01 09:44:00 2016-05-01 10:03:00   \n",
       "4  id0232939          1 2016-02-17 06:42:00 2016-02-17 06:56:00   \n",
       "\n",
       "   passenger_count  pickup_longitude  pickup_latitude  dropoff_longitude  \\\n",
       "0                1        -73.953918        40.778873         -73.963875   \n",
       "1                2        -73.988312        40.731743         -73.994751   \n",
       "2                2        -73.997314        40.721458         -73.948029   \n",
       "3                6        -73.961670        40.759720         -73.956779   \n",
       "4                1        -74.017120        40.708469         -73.988182   \n",
       "\n",
       "   dropoff_latitude store_and_fwd_flag  trip_duration  pickup_day  \\\n",
       "0         40.771164                  N            400          29   \n",
       "1         40.694931                  N           1100           3   \n",
       "2         40.774918                  N           1635          21   \n",
       "3         40.780628                  N           1141           1   \n",
       "4         40.740631                  N            848          17   \n",
       "\n",
       "   dropoff_day  pickup_month  dropoff_month  pickup_hour  dropoff_hour  \\\n",
       "0           29             2              2           16            16   \n",
       "1            3            11             11           23            23   \n",
       "2           21             2              2           17            18   \n",
       "3            1             5              5            9            10   \n",
       "4           17             2              2            6             6   \n",
       "\n",
       "   pickup_weekday  dropoff_weekday  \n",
       "0               0                0  \n",
       "1               3                3  \n",
       "2               6                6  \n",
       "3               6                6  \n",
       "4               2                2  "
      ]
     },
     "execution_count": 10,
     "metadata": {},
     "output_type": "execute_result"
    }
   ],
   "source": [
    "data.head()"
   ]
  },
  {
   "cell_type": "code",
   "execution_count": 11,
   "id": "93733bfe",
   "metadata": {},
   "outputs": [
    {
     "data": {
      "text/plain": [
       "16    25519\n",
       "14    25206\n",
       "12    25156\n",
       "15    25037\n",
       "5     25030\n",
       "4     24958\n",
       "6     24757\n",
       "9     24729\n",
       "13    24649\n",
       "19    24646\n",
       "20    24584\n",
       "10    24575\n",
       "11    24361\n",
       "17    24338\n",
       "21    24260\n",
       "7     24254\n",
       "18    24128\n",
       "8     24113\n",
       "2     23899\n",
       "3     23858\n",
       "26    23709\n",
       "22    23627\n",
       "29    23391\n",
       "27    23376\n",
       "1     23293\n",
       "25    23288\n",
       "28    22916\n",
       "24    21877\n",
       "23    20757\n",
       "30    19642\n",
       "31    11389\n",
       "Name: pickup_day, dtype: int64"
      ]
     },
     "execution_count": 11,
     "metadata": {},
     "output_type": "execute_result"
    }
   ],
   "source": [
    "data['pickup_day'].value_counts()"
   ]
  },
  {
   "cell_type": "code",
   "execution_count": 11,
   "id": "3446d6b5",
   "metadata": {},
   "outputs": [
    {
     "data": {
      "text/plain": [
       "4     1435\n",
       "3     1410\n",
       "6     1367\n",
       "5     1350\n",
       "2     1266\n",
       "1     1188\n",
       "16     723\n",
       "14     699\n",
       "18     689\n",
       "25     685\n",
       "21     684\n",
       "20     677\n",
       "17     676\n",
       "22     668\n",
       "15     663\n",
       "19     656\n",
       "26     655\n",
       "13     642\n",
       "28     626\n",
       "27     617\n",
       "29     611\n",
       "23     606\n",
       "24     595\n",
       "30     521\n",
       "31     316\n",
       "7        1\n",
       "Name: dropoff_day, dtype: int64"
      ]
     },
     "execution_count": 11,
     "metadata": {},
     "output_type": "execute_result"
    }
   ],
   "source": [
    "data['dropoff_day'].value_counts()"
   ]
  },
  {
   "cell_type": "code",
   "execution_count": 12,
   "id": "16166c1a",
   "metadata": {},
   "outputs": [],
   "source": [
    "def timezone(x):\n",
    "    if x in range(6,12):\n",
    "        return 'Morning'\n",
    "    elif x in range(12,16):\n",
    "        return 'Afternoon'\n",
    "    elif x in range(16,22):\n",
    "        return 'Evening'\n",
    "    else:\n",
    "        return 'Late night'"
   ]
  },
  {
   "cell_type": "code",
   "execution_count": 13,
   "id": "b36efca5",
   "metadata": {},
   "outputs": [],
   "source": [
    "data['pickup_timezone']=data['pickup_hour'].apply(timezone)\n",
    "data['dropoff_timezone']=data['dropoff_hour'].apply(timezone)"
   ]
  },
  {
   "cell_type": "code",
   "execution_count": 14,
   "id": "8e256b30",
   "metadata": {},
   "outputs": [
    {
     "data": {
      "text/html": [
       "<div>\n",
       "<style scoped>\n",
       "    .dataframe tbody tr th:only-of-type {\n",
       "        vertical-align: middle;\n",
       "    }\n",
       "\n",
       "    .dataframe tbody tr th {\n",
       "        vertical-align: top;\n",
       "    }\n",
       "\n",
       "    .dataframe thead th {\n",
       "        text-align: right;\n",
       "    }\n",
       "</style>\n",
       "<table border=\"1\" class=\"dataframe\">\n",
       "  <thead>\n",
       "    <tr style=\"text-align: right;\">\n",
       "      <th></th>\n",
       "      <th>id</th>\n",
       "      <th>vendor_id</th>\n",
       "      <th>pickup_datetime</th>\n",
       "      <th>dropoff_datetime</th>\n",
       "      <th>passenger_count</th>\n",
       "      <th>pickup_longitude</th>\n",
       "      <th>pickup_latitude</th>\n",
       "      <th>dropoff_longitude</th>\n",
       "      <th>dropoff_latitude</th>\n",
       "      <th>store_and_fwd_flag</th>\n",
       "      <th>...</th>\n",
       "      <th>pickup_day</th>\n",
       "      <th>dropoff_day</th>\n",
       "      <th>pickup_month</th>\n",
       "      <th>dropoff_month</th>\n",
       "      <th>pickup_hour</th>\n",
       "      <th>dropoff_hour</th>\n",
       "      <th>pickup_weekday</th>\n",
       "      <th>dropoff_weekday</th>\n",
       "      <th>pickup_timezone</th>\n",
       "      <th>dropoff_timezone</th>\n",
       "    </tr>\n",
       "  </thead>\n",
       "  <tbody>\n",
       "    <tr>\n",
       "      <th>0</th>\n",
       "      <td>id1080784</td>\n",
       "      <td>2</td>\n",
       "      <td>2016-02-29 16:40:00</td>\n",
       "      <td>2016-02-29 16:47:00</td>\n",
       "      <td>1</td>\n",
       "      <td>-73.953918</td>\n",
       "      <td>40.778873</td>\n",
       "      <td>-73.963875</td>\n",
       "      <td>40.771164</td>\n",
       "      <td>N</td>\n",
       "      <td>...</td>\n",
       "      <td>29</td>\n",
       "      <td>29</td>\n",
       "      <td>2</td>\n",
       "      <td>2</td>\n",
       "      <td>16</td>\n",
       "      <td>16</td>\n",
       "      <td>0</td>\n",
       "      <td>0</td>\n",
       "      <td>Evening</td>\n",
       "      <td>Evening</td>\n",
       "    </tr>\n",
       "    <tr>\n",
       "      <th>1</th>\n",
       "      <td>id0889885</td>\n",
       "      <td>1</td>\n",
       "      <td>2016-11-03 23:35:00</td>\n",
       "      <td>2016-11-03 23:53:00</td>\n",
       "      <td>2</td>\n",
       "      <td>-73.988312</td>\n",
       "      <td>40.731743</td>\n",
       "      <td>-73.994751</td>\n",
       "      <td>40.694931</td>\n",
       "      <td>N</td>\n",
       "      <td>...</td>\n",
       "      <td>3</td>\n",
       "      <td>3</td>\n",
       "      <td>11</td>\n",
       "      <td>11</td>\n",
       "      <td>23</td>\n",
       "      <td>23</td>\n",
       "      <td>3</td>\n",
       "      <td>3</td>\n",
       "      <td>Late night</td>\n",
       "      <td>Late night</td>\n",
       "    </tr>\n",
       "    <tr>\n",
       "      <th>2</th>\n",
       "      <td>id0857912</td>\n",
       "      <td>2</td>\n",
       "      <td>2016-02-21 17:59:00</td>\n",
       "      <td>2016-02-21 18:26:00</td>\n",
       "      <td>2</td>\n",
       "      <td>-73.997314</td>\n",
       "      <td>40.721458</td>\n",
       "      <td>-73.948029</td>\n",
       "      <td>40.774918</td>\n",
       "      <td>N</td>\n",
       "      <td>...</td>\n",
       "      <td>21</td>\n",
       "      <td>21</td>\n",
       "      <td>2</td>\n",
       "      <td>2</td>\n",
       "      <td>17</td>\n",
       "      <td>18</td>\n",
       "      <td>6</td>\n",
       "      <td>6</td>\n",
       "      <td>Evening</td>\n",
       "      <td>Evening</td>\n",
       "    </tr>\n",
       "    <tr>\n",
       "      <th>3</th>\n",
       "      <td>id3744273</td>\n",
       "      <td>2</td>\n",
       "      <td>2016-05-01 09:44:00</td>\n",
       "      <td>2016-05-01 10:03:00</td>\n",
       "      <td>6</td>\n",
       "      <td>-73.961670</td>\n",
       "      <td>40.759720</td>\n",
       "      <td>-73.956779</td>\n",
       "      <td>40.780628</td>\n",
       "      <td>N</td>\n",
       "      <td>...</td>\n",
       "      <td>1</td>\n",
       "      <td>1</td>\n",
       "      <td>5</td>\n",
       "      <td>5</td>\n",
       "      <td>9</td>\n",
       "      <td>10</td>\n",
       "      <td>6</td>\n",
       "      <td>6</td>\n",
       "      <td>Morning</td>\n",
       "      <td>Morning</td>\n",
       "    </tr>\n",
       "    <tr>\n",
       "      <th>4</th>\n",
       "      <td>id0232939</td>\n",
       "      <td>1</td>\n",
       "      <td>2016-02-17 06:42:00</td>\n",
       "      <td>2016-02-17 06:56:00</td>\n",
       "      <td>1</td>\n",
       "      <td>-74.017120</td>\n",
       "      <td>40.708469</td>\n",
       "      <td>-73.988182</td>\n",
       "      <td>40.740631</td>\n",
       "      <td>N</td>\n",
       "      <td>...</td>\n",
       "      <td>17</td>\n",
       "      <td>17</td>\n",
       "      <td>2</td>\n",
       "      <td>2</td>\n",
       "      <td>6</td>\n",
       "      <td>6</td>\n",
       "      <td>2</td>\n",
       "      <td>2</td>\n",
       "      <td>Morning</td>\n",
       "      <td>Morning</td>\n",
       "    </tr>\n",
       "  </tbody>\n",
       "</table>\n",
       "<p>5 rows × 21 columns</p>\n",
       "</div>"
      ],
      "text/plain": [
       "          id  vendor_id     pickup_datetime    dropoff_datetime  \\\n",
       "0  id1080784          2 2016-02-29 16:40:00 2016-02-29 16:47:00   \n",
       "1  id0889885          1 2016-11-03 23:35:00 2016-11-03 23:53:00   \n",
       "2  id0857912          2 2016-02-21 17:59:00 2016-02-21 18:26:00   \n",
       "3  id3744273          2 2016-05-01 09:44:00 2016-05-01 10:03:00   \n",
       "4  id0232939          1 2016-02-17 06:42:00 2016-02-17 06:56:00   \n",
       "\n",
       "   passenger_count  pickup_longitude  pickup_latitude  dropoff_longitude  \\\n",
       "0                1        -73.953918        40.778873         -73.963875   \n",
       "1                2        -73.988312        40.731743         -73.994751   \n",
       "2                2        -73.997314        40.721458         -73.948029   \n",
       "3                6        -73.961670        40.759720         -73.956779   \n",
       "4                1        -74.017120        40.708469         -73.988182   \n",
       "\n",
       "   dropoff_latitude store_and_fwd_flag  ...  pickup_day  dropoff_day  \\\n",
       "0         40.771164                  N  ...          29           29   \n",
       "1         40.694931                  N  ...           3            3   \n",
       "2         40.774918                  N  ...          21           21   \n",
       "3         40.780628                  N  ...           1            1   \n",
       "4         40.740631                  N  ...          17           17   \n",
       "\n",
       "   pickup_month  dropoff_month  pickup_hour  dropoff_hour  pickup_weekday  \\\n",
       "0             2              2           16            16               0   \n",
       "1            11             11           23            23               3   \n",
       "2             2              2           17            18               6   \n",
       "3             5              5            9            10               6   \n",
       "4             2              2            6             6               2   \n",
       "\n",
       "   dropoff_weekday  pickup_timezone dropoff_timezone  \n",
       "0                0          Evening          Evening  \n",
       "1                3       Late night       Late night  \n",
       "2                6          Evening          Evening  \n",
       "3                6          Morning          Morning  \n",
       "4                2          Morning          Morning  \n",
       "\n",
       "[5 rows x 21 columns]"
      ]
     },
     "execution_count": 14,
     "metadata": {},
     "output_type": "execute_result"
    }
   ],
   "source": [
    "data.head()"
   ]
  },
  {
   "cell_type": "code",
   "execution_count": 15,
   "id": "0373d2e3",
   "metadata": {},
   "outputs": [
    {
     "data": {
      "text/plain": [
       "id                    0\n",
       "vendor_id             0\n",
       "pickup_datetime       0\n",
       "dropoff_datetime      0\n",
       "passenger_count       0\n",
       "pickup_longitude      0\n",
       "pickup_latitude       0\n",
       "dropoff_longitude     0\n",
       "dropoff_latitude      0\n",
       "store_and_fwd_flag    0\n",
       "trip_duration         0\n",
       "pickup_day            0\n",
       "dropoff_day           0\n",
       "pickup_month          0\n",
       "dropoff_month         0\n",
       "pickup_hour           0\n",
       "dropoff_hour          0\n",
       "pickup_weekday        0\n",
       "dropoff_weekday       0\n",
       "pickup_timezone       0\n",
       "dropoff_timezone      0\n",
       "dtype: int64"
      ]
     },
     "execution_count": 15,
     "metadata": {},
     "output_type": "execute_result"
    }
   ],
   "source": [
    "# checking for null values(we can conclude that our Dataset has no NULL values !!)\n",
    "data.isnull().sum()"
   ]
  },
  {
   "cell_type": "markdown",
   "id": "664b6fad",
   "metadata": {},
   "source": [
    "GEO SPATIAL DATA CONVERSION\n",
    "\n",
    "we have lattitude and longitude of pickup and dropoff locations, with the help of that we can derive distance of each trips"
   ]
  },
  {
   "cell_type": "code",
   "execution_count": 16,
   "id": "f5df54a2",
   "metadata": {},
   "outputs": [
    {
     "name": "stdout",
     "output_type": "stream",
     "text": [
      "Requirement already satisfied: geopy in c:\\users\\user\\anaconda3.x\\lib\\site-packages (2.2.0)\n",
      "Requirement already satisfied: geographiclib<2,>=1.49 in c:\\users\\user\\anaconda3.x\\lib\\site-packages (from geopy) (1.52)\n"
     ]
    }
   ],
   "source": [
    "!pip install geopy"
   ]
  },
  {
   "cell_type": "code",
   "execution_count": 17,
   "id": "65378267",
   "metadata": {},
   "outputs": [],
   "source": [
    "from geopy.distance import great_circle"
   ]
  },
  {
   "cell_type": "code",
   "execution_count": 18,
   "id": "cd70e152",
   "metadata": {},
   "outputs": [],
   "source": [
    "def cal_distance(pickup_lat,pickup_long,dropoff_lat,dropoff_long):\n",
    " \n",
    " start_coordinates=(pickup_lat,pickup_long)\n",
    " stop_coordinates=(dropoff_lat,dropoff_long)\n",
    " \n",
    " return great_circle(start_coordinates,stop_coordinates).km"
   ]
  },
  {
   "cell_type": "code",
   "execution_count": 19,
   "id": "eb57b0e5",
   "metadata": {},
   "outputs": [],
   "source": [
    "data['distance'] = data.apply(lambda x: cal_distance(x['pickup_latitude'],x['pickup_longitude'],x['dropoff_latitude'],x['dropoff_longitude'] ), axis=1)"
   ]
  },
  {
   "cell_type": "code",
   "execution_count": 20,
   "id": "a8a7a160",
   "metadata": {},
   "outputs": [
    {
     "data": {
      "text/html": [
       "<div>\n",
       "<style scoped>\n",
       "    .dataframe tbody tr th:only-of-type {\n",
       "        vertical-align: middle;\n",
       "    }\n",
       "\n",
       "    .dataframe tbody tr th {\n",
       "        vertical-align: top;\n",
       "    }\n",
       "\n",
       "    .dataframe thead th {\n",
       "        text-align: right;\n",
       "    }\n",
       "</style>\n",
       "<table border=\"1\" class=\"dataframe\">\n",
       "  <thead>\n",
       "    <tr style=\"text-align: right;\">\n",
       "      <th></th>\n",
       "      <th>id</th>\n",
       "      <th>vendor_id</th>\n",
       "      <th>pickup_datetime</th>\n",
       "      <th>dropoff_datetime</th>\n",
       "      <th>passenger_count</th>\n",
       "      <th>pickup_longitude</th>\n",
       "      <th>pickup_latitude</th>\n",
       "      <th>dropoff_longitude</th>\n",
       "      <th>dropoff_latitude</th>\n",
       "      <th>store_and_fwd_flag</th>\n",
       "      <th>...</th>\n",
       "      <th>dropoff_day</th>\n",
       "      <th>pickup_month</th>\n",
       "      <th>dropoff_month</th>\n",
       "      <th>pickup_hour</th>\n",
       "      <th>dropoff_hour</th>\n",
       "      <th>pickup_weekday</th>\n",
       "      <th>dropoff_weekday</th>\n",
       "      <th>pickup_timezone</th>\n",
       "      <th>dropoff_timezone</th>\n",
       "      <th>distance</th>\n",
       "    </tr>\n",
       "  </thead>\n",
       "  <tbody>\n",
       "    <tr>\n",
       "      <th>0</th>\n",
       "      <td>id1080784</td>\n",
       "      <td>2</td>\n",
       "      <td>2016-02-29 16:40:00</td>\n",
       "      <td>2016-02-29 16:47:00</td>\n",
       "      <td>1</td>\n",
       "      <td>-73.953918</td>\n",
       "      <td>40.778873</td>\n",
       "      <td>-73.963875</td>\n",
       "      <td>40.771164</td>\n",
       "      <td>N</td>\n",
       "      <td>...</td>\n",
       "      <td>29</td>\n",
       "      <td>2</td>\n",
       "      <td>2</td>\n",
       "      <td>16</td>\n",
       "      <td>16</td>\n",
       "      <td>0</td>\n",
       "      <td>0</td>\n",
       "      <td>Evening</td>\n",
       "      <td>Evening</td>\n",
       "      <td>1.199074</td>\n",
       "    </tr>\n",
       "    <tr>\n",
       "      <th>1</th>\n",
       "      <td>id0889885</td>\n",
       "      <td>1</td>\n",
       "      <td>2016-11-03 23:35:00</td>\n",
       "      <td>2016-11-03 23:53:00</td>\n",
       "      <td>2</td>\n",
       "      <td>-73.988312</td>\n",
       "      <td>40.731743</td>\n",
       "      <td>-73.994751</td>\n",
       "      <td>40.694931</td>\n",
       "      <td>N</td>\n",
       "      <td>...</td>\n",
       "      <td>3</td>\n",
       "      <td>11</td>\n",
       "      <td>11</td>\n",
       "      <td>23</td>\n",
       "      <td>23</td>\n",
       "      <td>3</td>\n",
       "      <td>3</td>\n",
       "      <td>Late night</td>\n",
       "      <td>Late night</td>\n",
       "      <td>4.129117</td>\n",
       "    </tr>\n",
       "    <tr>\n",
       "      <th>2</th>\n",
       "      <td>id0857912</td>\n",
       "      <td>2</td>\n",
       "      <td>2016-02-21 17:59:00</td>\n",
       "      <td>2016-02-21 18:26:00</td>\n",
       "      <td>2</td>\n",
       "      <td>-73.997314</td>\n",
       "      <td>40.721458</td>\n",
       "      <td>-73.948029</td>\n",
       "      <td>40.774918</td>\n",
       "      <td>N</td>\n",
       "      <td>...</td>\n",
       "      <td>21</td>\n",
       "      <td>2</td>\n",
       "      <td>2</td>\n",
       "      <td>17</td>\n",
       "      <td>18</td>\n",
       "      <td>6</td>\n",
       "      <td>6</td>\n",
       "      <td>Evening</td>\n",
       "      <td>Evening</td>\n",
       "      <td>7.250763</td>\n",
       "    </tr>\n",
       "    <tr>\n",
       "      <th>3</th>\n",
       "      <td>id3744273</td>\n",
       "      <td>2</td>\n",
       "      <td>2016-05-01 09:44:00</td>\n",
       "      <td>2016-05-01 10:03:00</td>\n",
       "      <td>6</td>\n",
       "      <td>-73.961670</td>\n",
       "      <td>40.759720</td>\n",
       "      <td>-73.956779</td>\n",
       "      <td>40.780628</td>\n",
       "      <td>N</td>\n",
       "      <td>...</td>\n",
       "      <td>1</td>\n",
       "      <td>5</td>\n",
       "      <td>5</td>\n",
       "      <td>9</td>\n",
       "      <td>10</td>\n",
       "      <td>6</td>\n",
       "      <td>6</td>\n",
       "      <td>Morning</td>\n",
       "      <td>Morning</td>\n",
       "      <td>2.361100</td>\n",
       "    </tr>\n",
       "    <tr>\n",
       "      <th>4</th>\n",
       "      <td>id0232939</td>\n",
       "      <td>1</td>\n",
       "      <td>2016-02-17 06:42:00</td>\n",
       "      <td>2016-02-17 06:56:00</td>\n",
       "      <td>1</td>\n",
       "      <td>-74.017120</td>\n",
       "      <td>40.708469</td>\n",
       "      <td>-73.988182</td>\n",
       "      <td>40.740631</td>\n",
       "      <td>N</td>\n",
       "      <td>...</td>\n",
       "      <td>17</td>\n",
       "      <td>2</td>\n",
       "      <td>2</td>\n",
       "      <td>6</td>\n",
       "      <td>6</td>\n",
       "      <td>2</td>\n",
       "      <td>2</td>\n",
       "      <td>Morning</td>\n",
       "      <td>Morning</td>\n",
       "      <td>4.328540</td>\n",
       "    </tr>\n",
       "  </tbody>\n",
       "</table>\n",
       "<p>5 rows × 22 columns</p>\n",
       "</div>"
      ],
      "text/plain": [
       "          id  vendor_id     pickup_datetime    dropoff_datetime  \\\n",
       "0  id1080784          2 2016-02-29 16:40:00 2016-02-29 16:47:00   \n",
       "1  id0889885          1 2016-11-03 23:35:00 2016-11-03 23:53:00   \n",
       "2  id0857912          2 2016-02-21 17:59:00 2016-02-21 18:26:00   \n",
       "3  id3744273          2 2016-05-01 09:44:00 2016-05-01 10:03:00   \n",
       "4  id0232939          1 2016-02-17 06:42:00 2016-02-17 06:56:00   \n",
       "\n",
       "   passenger_count  pickup_longitude  pickup_latitude  dropoff_longitude  \\\n",
       "0                1        -73.953918        40.778873         -73.963875   \n",
       "1                2        -73.988312        40.731743         -73.994751   \n",
       "2                2        -73.997314        40.721458         -73.948029   \n",
       "3                6        -73.961670        40.759720         -73.956779   \n",
       "4                1        -74.017120        40.708469         -73.988182   \n",
       "\n",
       "   dropoff_latitude store_and_fwd_flag  ...  dropoff_day  pickup_month  \\\n",
       "0         40.771164                  N  ...           29             2   \n",
       "1         40.694931                  N  ...            3            11   \n",
       "2         40.774918                  N  ...           21             2   \n",
       "3         40.780628                  N  ...            1             5   \n",
       "4         40.740631                  N  ...           17             2   \n",
       "\n",
       "   dropoff_month  pickup_hour  dropoff_hour  pickup_weekday  dropoff_weekday  \\\n",
       "0              2           16            16               0                0   \n",
       "1             11           23            23               3                3   \n",
       "2              2           17            18               6                6   \n",
       "3              5            9            10               6                6   \n",
       "4              2            6             6               2                2   \n",
       "\n",
       "   pickup_timezone  dropoff_timezone  distance  \n",
       "0          Evening           Evening  1.199074  \n",
       "1       Late night        Late night  4.129117  \n",
       "2          Evening           Evening  7.250763  \n",
       "3          Morning           Morning  2.361100  \n",
       "4          Morning           Morning  4.328540  \n",
       "\n",
       "[5 rows x 22 columns]"
      ]
     },
     "execution_count": 20,
     "metadata": {},
     "output_type": "execute_result"
    }
   ],
   "source": [
    "data.head()"
   ]
  },
  {
   "cell_type": "markdown",
   "id": "babbe3c0",
   "metadata": {},
   "source": [
    "# DATA VISUALISATION"
   ]
  },
  {
   "cell_type": "code",
   "execution_count": 21,
   "id": "cc819465",
   "metadata": {},
   "outputs": [
    {
     "data": {
      "image/png": "[encoded data removed]",
      "text/plain": [
       "<Figure size 432x288 with 1 Axes>"
      ]
     },
     "metadata": {
      "needs_background": "light"
     },
     "output_type": "display_data"
    }
   ],
   "source": [
    "ax=sns.countplot(x='vendor_id',data=data)\n",
    "\n",
    "for container in ax.containers:\n",
    "    ax.bar_label(container)"
   ]
  },
  {
   "cell_type": "markdown",
   "id": "b7bab57f",
   "metadata": {},
   "source": [
    "From Above Visualization, we can say that there are 2 Service Providers.\n",
    "\n",
    "2nd Service provider is the most opted one by New Yorkers."
   ]
  },
  {
   "cell_type": "code",
   "execution_count": 22,
   "id": "0623555f",
   "metadata": {},
   "outputs": [
    {
     "data": {
      "text/plain": [
       "Text(0.5, 1.0, 'Store and Forward Flag')"
      ]
     },
     "execution_count": 22,
     "metadata": {},
     "output_type": "execute_result"
    },
    {
     "data": {
      "image/png": "[encoded data removed]",
      "text/plain": [
       "<Figure size 576x576 with 1 Axes>"
      ]
     },
     "metadata": {},
     "output_type": "display_data"
    }
   ],
   "source": [
    "#Store & Forward flag\n",
    "\n",
    "plt.figure(figsize=(8,8))\n",
    "plt.pie(data['store_and_fwd_flag'].value_counts(), autopct='%1.2f%%')\n",
    "plt.legend(labels=['Y','N'])\n",
    "plt.title(\"Store and Forward Flag\")"
   ]
  },
  {
   "cell_type": "markdown",
   "id": "34412c90",
   "metadata": {},
   "source": [
    "store_and_fwd_flag tells whether the trip record was held in vehicle memory before sending to the vendor because the vehicle did not have a connection to the server - Y = store and forward; N = not a store and forward trip.\n",
    "Visualization tells us that there were very few trips of which the records were stored in memory due to no connection to the server."
   ]
  },
  {
   "cell_type": "code",
   "execution_count": 23,
   "id": "675256a9",
   "metadata": {},
   "outputs": [],
   "source": [
    "#Label Encoding 'store_and_fwd_flag' and 'vendor_id' since they are  Categorical Values\n",
    "\n",
    "from sklearn.preprocessing import LabelEncoder\n",
    "\n",
    "enc = LabelEncoder()\n",
    "data['store_and_fwd_flag'] = enc.fit_transform(data['store_and_fwd_flag'])\n",
    "data['vendor_id'] = enc.fit_transform(data['vendor_id'])"
   ]
  },
  {
   "cell_type": "code",
   "execution_count": 24,
   "id": "3d833f79",
   "metadata": {},
   "outputs": [
    {
     "data": {
      "text/html": [
       "<div>\n",
       "<style scoped>\n",
       "    .dataframe tbody tr th:only-of-type {\n",
       "        vertical-align: middle;\n",
       "    }\n",
       "\n",
       "    .dataframe tbody tr th {\n",
       "        vertical-align: top;\n",
       "    }\n",
       "\n",
       "    .dataframe thead th {\n",
       "        text-align: right;\n",
       "    }\n",
       "</style>\n",
       "<table border=\"1\" class=\"dataframe\">\n",
       "  <thead>\n",
       "    <tr style=\"text-align: right;\">\n",
       "      <th></th>\n",
       "      <th>id</th>\n",
       "      <th>vendor_id</th>\n",
       "      <th>pickup_datetime</th>\n",
       "      <th>dropoff_datetime</th>\n",
       "      <th>passenger_count</th>\n",
       "      <th>pickup_longitude</th>\n",
       "      <th>pickup_latitude</th>\n",
       "      <th>dropoff_longitude</th>\n",
       "      <th>dropoff_latitude</th>\n",
       "      <th>store_and_fwd_flag</th>\n",
       "      <th>...</th>\n",
       "      <th>dropoff_day</th>\n",
       "      <th>pickup_month</th>\n",
       "      <th>dropoff_month</th>\n",
       "      <th>pickup_hour</th>\n",
       "      <th>dropoff_hour</th>\n",
       "      <th>pickup_weekday</th>\n",
       "      <th>dropoff_weekday</th>\n",
       "      <th>pickup_timezone</th>\n",
       "      <th>dropoff_timezone</th>\n",
       "      <th>distance</th>\n",
       "    </tr>\n",
       "  </thead>\n",
       "  <tbody>\n",
       "    <tr>\n",
       "      <th>0</th>\n",
       "      <td>id1080784</td>\n",
       "      <td>1</td>\n",
       "      <td>2016-02-29 16:40:00</td>\n",
       "      <td>2016-02-29 16:47:00</td>\n",
       "      <td>1</td>\n",
       "      <td>-73.953918</td>\n",
       "      <td>40.778873</td>\n",
       "      <td>-73.963875</td>\n",
       "      <td>40.771164</td>\n",
       "      <td>0</td>\n",
       "      <td>...</td>\n",
       "      <td>29</td>\n",
       "      <td>2</td>\n",
       "      <td>2</td>\n",
       "      <td>16</td>\n",
       "      <td>16</td>\n",
       "      <td>0</td>\n",
       "      <td>0</td>\n",
       "      <td>Evening</td>\n",
       "      <td>Evening</td>\n",
       "      <td>1.199074</td>\n",
       "    </tr>\n",
       "    <tr>\n",
       "      <th>1</th>\n",
       "      <td>id0889885</td>\n",
       "      <td>0</td>\n",
       "      <td>2016-11-03 23:35:00</td>\n",
       "      <td>2016-11-03 23:53:00</td>\n",
       "      <td>2</td>\n",
       "      <td>-73.988312</td>\n",
       "      <td>40.731743</td>\n",
       "      <td>-73.994751</td>\n",
       "      <td>40.694931</td>\n",
       "      <td>0</td>\n",
       "      <td>...</td>\n",
       "      <td>3</td>\n",
       "      <td>11</td>\n",
       "      <td>11</td>\n",
       "      <td>23</td>\n",
       "      <td>23</td>\n",
       "      <td>3</td>\n",
       "      <td>3</td>\n",
       "      <td>Late night</td>\n",
       "      <td>Late night</td>\n",
       "      <td>4.129117</td>\n",
       "    </tr>\n",
       "    <tr>\n",
       "      <th>2</th>\n",
       "      <td>id0857912</td>\n",
       "      <td>1</td>\n",
       "      <td>2016-02-21 17:59:00</td>\n",
       "      <td>2016-02-21 18:26:00</td>\n",
       "      <td>2</td>\n",
       "      <td>-73.997314</td>\n",
       "      <td>40.721458</td>\n",
       "      <td>-73.948029</td>\n",
       "      <td>40.774918</td>\n",
       "      <td>0</td>\n",
       "      <td>...</td>\n",
       "      <td>21</td>\n",
       "      <td>2</td>\n",
       "      <td>2</td>\n",
       "      <td>17</td>\n",
       "      <td>18</td>\n",
       "      <td>6</td>\n",
       "      <td>6</td>\n",
       "      <td>Evening</td>\n",
       "      <td>Evening</td>\n",
       "      <td>7.250763</td>\n",
       "    </tr>\n",
       "    <tr>\n",
       "      <th>3</th>\n",
       "      <td>id3744273</td>\n",
       "      <td>1</td>\n",
       "      <td>2016-05-01 09:44:00</td>\n",
       "      <td>2016-05-01 10:03:00</td>\n",
       "      <td>6</td>\n",
       "      <td>-73.961670</td>\n",
       "      <td>40.759720</td>\n",
       "      <td>-73.956779</td>\n",
       "      <td>40.780628</td>\n",
       "      <td>0</td>\n",
       "      <td>...</td>\n",
       "      <td>1</td>\n",
       "      <td>5</td>\n",
       "      <td>5</td>\n",
       "      <td>9</td>\n",
       "      <td>10</td>\n",
       "      <td>6</td>\n",
       "      <td>6</td>\n",
       "      <td>Morning</td>\n",
       "      <td>Morning</td>\n",
       "      <td>2.361100</td>\n",
       "    </tr>\n",
       "    <tr>\n",
       "      <th>4</th>\n",
       "      <td>id0232939</td>\n",
       "      <td>0</td>\n",
       "      <td>2016-02-17 06:42:00</td>\n",
       "      <td>2016-02-17 06:56:00</td>\n",
       "      <td>1</td>\n",
       "      <td>-74.017120</td>\n",
       "      <td>40.708469</td>\n",
       "      <td>-73.988182</td>\n",
       "      <td>40.740631</td>\n",
       "      <td>0</td>\n",
       "      <td>...</td>\n",
       "      <td>17</td>\n",
       "      <td>2</td>\n",
       "      <td>2</td>\n",
       "      <td>6</td>\n",
       "      <td>6</td>\n",
       "      <td>2</td>\n",
       "      <td>2</td>\n",
       "      <td>Morning</td>\n",
       "      <td>Morning</td>\n",
       "      <td>4.328540</td>\n",
       "    </tr>\n",
       "  </tbody>\n",
       "</table>\n",
       "<p>5 rows × 22 columns</p>\n",
       "</div>"
      ],
      "text/plain": [
       "          id  vendor_id     pickup_datetime    dropoff_datetime  \\\n",
       "0  id1080784          1 2016-02-29 16:40:00 2016-02-29 16:47:00   \n",
       "1  id0889885          0 2016-11-03 23:35:00 2016-11-03 23:53:00   \n",
       "2  id0857912          1 2016-02-21 17:59:00 2016-02-21 18:26:00   \n",
       "3  id3744273          1 2016-05-01 09:44:00 2016-05-01 10:03:00   \n",
       "4  id0232939          0 2016-02-17 06:42:00 2016-02-17 06:56:00   \n",
       "\n",
       "   passenger_count  pickup_longitude  pickup_latitude  dropoff_longitude  \\\n",
       "0                1        -73.953918        40.778873         -73.963875   \n",
       "1                2        -73.988312        40.731743         -73.994751   \n",
       "2                2        -73.997314        40.721458         -73.948029   \n",
       "3                6        -73.961670        40.759720         -73.956779   \n",
       "4                1        -74.017120        40.708469         -73.988182   \n",
       "\n",
       "   dropoff_latitude  store_and_fwd_flag  ...  dropoff_day  pickup_month  \\\n",
       "0         40.771164                   0  ...           29             2   \n",
       "1         40.694931                   0  ...            3            11   \n",
       "2         40.774918                   0  ...           21             2   \n",
       "3         40.780628                   0  ...            1             5   \n",
       "4         40.740631                   0  ...           17             2   \n",
       "\n",
       "   dropoff_month  pickup_hour  dropoff_hour  pickup_weekday  dropoff_weekday  \\\n",
       "0              2           16            16               0                0   \n",
       "1             11           23            23               3                3   \n",
       "2              2           17            18               6                6   \n",
       "3              5            9            10               6                6   \n",
       "4              2            6             6               2                2   \n",
       "\n",
       "   pickup_timezone  dropoff_timezone  distance  \n",
       "0          Evening           Evening  1.199074  \n",
       "1       Late night        Late night  4.129117  \n",
       "2          Evening           Evening  7.250763  \n",
       "3          Morning           Morning  2.361100  \n",
       "4          Morning           Morning  4.328540  \n",
       "\n",
       "[5 rows x 22 columns]"
      ]
     },
     "execution_count": 24,
     "metadata": {},
     "output_type": "execute_result"
    }
   ],
   "source": [
    "data.head()"
   ]
  },
  {
   "cell_type": "code",
   "execution_count": 25,
   "id": "35fadde2",
   "metadata": {},
   "outputs": [
    {
     "name": "stderr",
     "output_type": "stream",
     "text": [
      "C:\\Users\\USER\\anaconda3.x\\lib\\site-packages\\seaborn\\_decorators.py:36: FutureWarning: Pass the following variable as a keyword arg: x. From version 0.12, the only valid positional argument will be `data`, and passing other arguments without an explicit keyword will result in an error or misinterpretation.\n",
      "  warnings.warn(\n"
     ]
    },
    {
     "data": {
      "text/plain": [
       "<AxesSubplot:xlabel='trip_duration'>"
      ]
     },
     "execution_count": 25,
     "metadata": {},
     "output_type": "execute_result"
    },
    {
     "data": {
      "image/png": "[encoded data removed]",
      "text/plain": [
       "<Figure size 1440x360 with 1 Axes>"
      ]
     },
     "metadata": {
      "needs_background": "light"
     },
     "output_type": "display_data"
    }
   ],
   "source": [
    "#Visualising Trip duration we can clearly notice an outlier at extreme right\n",
    "\n",
    "plt.figure(figsize=(20,5))\n",
    "sns.boxplot(data['trip_duration'])"
   ]
  },
  {
   "cell_type": "code",
   "execution_count": 26,
   "id": "b5be1110",
   "metadata": {},
   "outputs": [
    {
     "data": {
      "text/plain": [
       "3018     86342\n",
       "11676    86322\n",
       "13695    86290\n",
       "15031    86290\n",
       "8001     86276\n",
       "         ...  \n",
       "15550        3\n",
       "19446        3\n",
       "12431        3\n",
       "4540         3\n",
       "3169         2\n",
       "Name: trip_duration, Length: 20026, dtype: int64"
      ]
     },
     "execution_count": 26,
     "metadata": {},
     "output_type": "execute_result"
    }
   ],
   "source": [
    "data['trip_duration'].sort_values(ascending=False)"
   ]
  },
  {
   "cell_type": "code",
   "execution_count": 28,
   "id": "ef1c0c49",
   "metadata": {},
   "outputs": [],
   "source": [
    "#data.drop(data[data['trip_duration'] == 1939736].index, inplace = True)"
   ]
  },
  {
   "cell_type": "code",
   "execution_count": 27,
   "id": "014807fe",
   "metadata": {},
   "outputs": [
    {
     "name": "stderr",
     "output_type": "stream",
     "text": [
      "C:\\Users\\USER\\anaconda3.x\\lib\\site-packages\\seaborn\\_decorators.py:36: FutureWarning: Pass the following variable as a keyword arg: x. From version 0.12, the only valid positional argument will be `data`, and passing other arguments without an explicit keyword will result in an error or misinterpretation.\n",
      "  warnings.warn(\n"
     ]
    },
    {
     "data": {
      "text/plain": [
       "Text(0.5, 1.0, 'Passenger Count Distribution')"
      ]
     },
     "execution_count": 27,
     "metadata": {},
     "output_type": "execute_result"
    },
    {
     "data": {
      "image/png": "[encoded data removed]",
      "text/plain": [
       "<Figure size 1440x360 with 1 Axes>"
      ]
     },
     "metadata": {
      "needs_background": "light"
     },
     "output_type": "display_data"
    }
   ],
   "source": [
    "#Spread of Passenger count\n",
    "\n",
    "plt.figure(figsize=(20,5))\n",
    "sns.boxplot(data['passenger_count'])\n",
    "plt.title('Passenger Count Distribution')"
   ]
  },
  {
   "cell_type": "code",
   "execution_count": 28,
   "id": "c05973df",
   "metadata": {},
   "outputs": [
    {
     "data": {
      "text/plain": [
       "1    14014\n",
       "2     3003\n",
       "5     1110\n",
       "3      828\n",
       "6      682\n",
       "4      388\n",
       "0        1\n",
       "Name: passenger_count, dtype: int64"
      ]
     },
     "execution_count": 28,
     "metadata": {},
     "output_type": "execute_result"
    }
   ],
   "source": [
    "data.passenger_count.value_counts()"
   ]
  },
  {
   "cell_type": "markdown",
   "id": "57bec8b3",
   "metadata": {},
   "source": [
    "Most number of trips are carried out by 1 or 2 passengers.\n",
    "There exist trip with Zero passengers! May be due to  False data recorded\n",
    "Above 6 passengers count is very less"
   ]
  },
  {
   "cell_type": "code",
   "execution_count": 29,
   "id": "8f7a9495",
   "metadata": {},
   "outputs": [],
   "source": [
    "#trips with passengers count 0 is removing\n",
    "data=data[data['passenger_count']!=0]"
   ]
  },
  {
   "cell_type": "code",
   "execution_count": 30,
   "id": "07155fe0",
   "metadata": {},
   "outputs": [
    {
     "data": {
      "text/plain": [
       "1    14014\n",
       "2     3003\n",
       "5     1110\n",
       "3      828\n",
       "6      682\n",
       "4      388\n",
       "Name: passenger_count, dtype: int64"
      ]
     },
     "execution_count": 30,
     "metadata": {},
     "output_type": "execute_result"
    }
   ],
   "source": [
    "data.passenger_count.value_counts()"
   ]
  },
  {
   "cell_type": "code",
   "execution_count": 31,
   "id": "ee83948f",
   "metadata": {},
   "outputs": [
    {
     "data": {
      "image/png": "[encoded data removed]",
      "text/plain": [
       "<Figure size 432x288 with 1 Axes>"
      ]
     },
     "metadata": {
      "needs_background": "light"
     },
     "output_type": "display_data"
    }
   ],
   "source": [
    "ax=sns.countplot(x=data['passenger_count'])\n",
    "plt.title('distribution of passenger count')\n",
    "\n",
    "for container in ax.containers:\n",
    "    ax.bar_label(container)"
   ]
  },
  {
   "cell_type": "code",
   "execution_count": 32,
   "id": "4c92d929",
   "metadata": {},
   "outputs": [
    {
     "data": {
      "image/png": "[encoded data removed]",
      "text/plain": [
       "<Figure size 1440x360 with 2 Axes>"
      ]
     },
     "metadata": {
      "needs_background": "light"
     },
     "output_type": "display_data"
    }
   ],
   "source": [
    "#count of pickup and drop off in each day\n",
    "\n",
    "fig,(ax1,ax2)=plt.subplots(ncols=2,figsize=(20,5))\n",
    "\n",
    "ax1.set_title('Total no of Pickups done on each Days')\n",
    "ax=sns.countplot(x=\"pickup_day\",data=data,ax=ax1)\n",
    "\n",
    "ax2.set_title('Total no of Dropoff  done on each Days')\n",
    "ax=sns.countplot(x=\"dropoff_day\",data=data,ax=ax2)"
   ]
  },
  {
   "cell_type": "code",
   "execution_count": 33,
   "id": "4daecfe1",
   "metadata": {},
   "outputs": [
    {
     "data": {
      "image/png": "[encoded data removed]",
      "text/plain": [
       "<Figure size 1440x360 with 2 Axes>"
      ]
     },
     "metadata": {
      "needs_background": "light"
     },
     "output_type": "display_data"
    }
   ],
   "source": [
    "#count of pickup and drop off in each hour of day\n",
    "\n",
    "figure,(ax3,ax4)=plt.subplots(ncols=2,figsize=(20,5))\n",
    "\n",
    "ax3.set_title('Pickup Hours')\n",
    "ax=sns.countplot(x=\"pickup_hour\",data=data,ax=ax3)\n",
    "\n",
    "ax4.set_title('Dropoff Hours')\n",
    "ax=sns.countplot(x=\"dropoff_hour\",data=data,ax=ax4)"
   ]
  },
  {
   "cell_type": "code",
   "execution_count": 34,
   "id": "f0452bb4",
   "metadata": {},
   "outputs": [
    {
     "data": {
      "image/png": "[encoded data removed]",
      "text/plain": [
       "<Figure size 1440x360 with 2 Axes>"
      ]
     },
     "metadata": {
      "needs_background": "light"
     },
     "output_type": "display_data"
    }
   ],
   "source": [
    "#count of pickup and drop off in every month\n",
    "\n",
    "figure,(ax5,ax6)=plt.subplots(ncols=2,figsize=(20,5))\n",
    "\n",
    "ax5.set_title('Pickup Month')\n",
    "ax=sns.countplot(x=\"pickup_month\",data=data,ax=ax5)\n",
    "\n",
    "ax6.set_title('Dropoff Month')\n",
    "ax=sns.countplot(x=\"dropoff_month\",data=data,ax=ax6)"
   ]
  },
  {
   "cell_type": "code",
   "execution_count": 35,
   "id": "fa554653",
   "metadata": {},
   "outputs": [
    {
     "data": {
      "image/png": "[encoded data removed]",
      "text/plain": [
       "<Figure size 1440x360 with 2 Axes>"
      ]
     },
     "metadata": {
      "needs_background": "light"
     },
     "output_type": "display_data"
    }
   ],
   "source": [
    "#count of pickup and drop off during evry time of day\n",
    "\n",
    "figure,(ax7,ax8)=plt.subplots(ncols=2,figsize=(20,5))\n",
    "\n",
    "ax7.set_title('Pickup Timezone')\n",
    "ax=sns.countplot(x=\"pickup_timezone\",data=data,ax=ax7)\n",
    "\n",
    "ax8.set_title('Dropoff Timezone')\n",
    "ax=sns.countplot(x=\"dropoff_timezone\",data=data,ax=ax8)"
   ]
  },
  {
   "cell_type": "markdown",
   "id": "7cfd51ee",
   "metadata": {},
   "source": [
    "b) Bivariate analysis"
   ]
  },
  {
   "cell_type": "code",
   "execution_count": 36,
   "id": "f3957bfd",
   "metadata": {},
   "outputs": [
    {
     "data": {
      "image/png": "[encoded data removed]",
      "text/plain": [
       "<Figure size 432x288 with 1 Axes>"
      ]
     },
     "metadata": {
      "needs_background": "light"
     },
     "output_type": "display_data"
    }
   ],
   "source": [
    "#trip duration per vendor\n",
    "\n",
    "ax=sns.barplot(y='trip_duration',x='vendor_id',data=data,estimator=np.mean)\n",
    "ax.set_title('trip duration per vendor')\n",
    "\n",
    "for container in ax.containers:\n",
    "    ax.bar_label(container)"
   ]
  },
  {
   "cell_type": "code",
   "execution_count": 37,
   "id": "3b536f2e",
   "metadata": {},
   "outputs": [
    {
     "data": {
      "text/plain": [
       "Text(0.5, 1.0, 'trip duration per hour')"
      ]
     },
     "execution_count": 37,
     "metadata": {},
     "output_type": "execute_result"
    },
    {
     "data": {
      "image/png": "[encoded data removed]",
      "text/plain": [
       "<Figure size 432x288 with 1 Axes>"
      ]
     },
     "metadata": {
      "needs_background": "light"
     },
     "output_type": "display_data"
    }
   ],
   "source": [
    "#Hourly trip duration\n",
    "\n",
    "ax=sns.lineplot(x='pickup_hour',y='trip_duration',data=data)\n",
    "ax.set_title('trip duration per hour')"
   ]
  },
  {
   "cell_type": "code",
   "execution_count": 38,
   "id": "8026a0a5",
   "metadata": {},
   "outputs": [
    {
     "data": {
      "text/plain": [
       "Text(0.5, 1.0, 'trip duration per day of month')"
      ]
     },
     "execution_count": 38,
     "metadata": {},
     "output_type": "execute_result"
    },
    {
     "data": {
      "image/png": "[encoded data removed]",
      "text/plain": [
       "<Figure size 432x288 with 1 Axes>"
      ]
     },
     "metadata": {
      "needs_background": "light"
     },
     "output_type": "display_data"
    }
   ],
   "source": [
    "ax=sns.lineplot(x='pickup_day',y='trip_duration',data=data)\n",
    "ax.set_title('trip duration per day of month')"
   ]
  },
  {
   "cell_type": "code",
   "execution_count": 39,
   "id": "670ce7ad",
   "metadata": {},
   "outputs": [
    {
     "data": {
      "text/plain": [
       "Text(0.5, 1.0, 'distance in each timezone in a day')"
      ]
     },
     "execution_count": 39,
     "metadata": {},
     "output_type": "execute_result"
    },
    {
     "data": {
      "image/png": "[encoded data removed]",
      "text/plain": [
       "<Figure size 432x288 with 1 Axes>"
      ]
     },
     "metadata": {
      "needs_background": "light"
     },
     "output_type": "display_data"
    }
   ],
   "source": [
    "ax=sns.lineplot(x='pickup_timezone',y='distance',data=data)\n",
    "ax.set_title('distance in each timezone in a day')"
   ]
  },
  {
   "cell_type": "code",
   "execution_count": 40,
   "id": "4278b940",
   "metadata": {},
   "outputs": [
    {
     "data": {
      "image/png": "[encoded data removed]",
      "text/plain": [
       "<Figure size 432x288 with 1 Axes>"
      ]
     },
     "metadata": {
      "needs_background": "light"
     },
     "output_type": "display_data"
    }
   ],
   "source": [
    "#Total distance covered by each vendor\n",
    "\n",
    "ax=sns.barplot(y='distance',x='vendor_id',data=data,estimator=np.mean)\n",
    "ax.set_title('distance v/s vendor id')\n",
    "\n",
    "for container in ax.containers:\n",
    "    ax.bar_label(container)"
   ]
  },
  {
   "cell_type": "code",
   "execution_count": 41,
   "id": "b60a5bcb",
   "metadata": {},
   "outputs": [
    {
     "data": {
      "text/html": [
       "<div>\n",
       "<style scoped>\n",
       "    .dataframe tbody tr th:only-of-type {\n",
       "        vertical-align: middle;\n",
       "    }\n",
       "\n",
       "    .dataframe tbody tr th {\n",
       "        vertical-align: top;\n",
       "    }\n",
       "\n",
       "    .dataframe thead th {\n",
       "        text-align: right;\n",
       "    }\n",
       "</style>\n",
       "<table border=\"1\" class=\"dataframe\">\n",
       "  <thead>\n",
       "    <tr style=\"text-align: right;\">\n",
       "      <th></th>\n",
       "      <th>id</th>\n",
       "      <th>vendor_id</th>\n",
       "      <th>pickup_datetime</th>\n",
       "      <th>dropoff_datetime</th>\n",
       "      <th>passenger_count</th>\n",
       "      <th>pickup_longitude</th>\n",
       "      <th>pickup_latitude</th>\n",
       "      <th>dropoff_longitude</th>\n",
       "      <th>dropoff_latitude</th>\n",
       "      <th>store_and_fwd_flag</th>\n",
       "      <th>...</th>\n",
       "      <th>dropoff_day</th>\n",
       "      <th>pickup_month</th>\n",
       "      <th>dropoff_month</th>\n",
       "      <th>pickup_hour</th>\n",
       "      <th>dropoff_hour</th>\n",
       "      <th>pickup_weekday</th>\n",
       "      <th>dropoff_weekday</th>\n",
       "      <th>pickup_timezone</th>\n",
       "      <th>dropoff_timezone</th>\n",
       "      <th>distance</th>\n",
       "    </tr>\n",
       "  </thead>\n",
       "  <tbody>\n",
       "  </tbody>\n",
       "</table>\n",
       "<p>0 rows × 22 columns</p>\n",
       "</div>"
      ],
      "text/plain": [
       "Empty DataFrame\n",
       "Columns: [id, vendor_id, pickup_datetime, dropoff_datetime, passenger_count, pickup_longitude, pickup_latitude, dropoff_longitude, dropoff_latitude, store_and_fwd_flag, trip_duration, pickup_day, dropoff_day, pickup_month, dropoff_month, pickup_hour, dropoff_hour, pickup_weekday, dropoff_weekday, pickup_timezone, dropoff_timezone, distance]\n",
       "Index: []\n",
       "\n",
       "[0 rows x 22 columns]"
      ]
     },
     "execution_count": 41,
     "metadata": {},
     "output_type": "execute_result"
    }
   ],
   "source": [
    "data[data.trip_duration==1]"
   ]
  },
  {
   "cell_type": "code",
   "execution_count": 44,
   "id": "24b55aba",
   "metadata": {},
   "outputs": [],
   "source": [
    "#we can observe that there are some rows with 1sec as trip duration, which is not possible we need to delete them all\n",
    "#data=data[data.trip_duration!=data.trip_duration.max()]\n",
    "#data=data[data.trip_duration!=data.trip_duration.min()]"
   ]
  },
  {
   "cell_type": "code",
   "execution_count": 42,
   "id": "90b1d9a0",
   "metadata": {},
   "outputs": [
    {
     "data": {
      "text/plain": [
       "Index(['id', 'vendor_id', 'pickup_datetime', 'dropoff_datetime',\n",
       "       'passenger_count', 'pickup_longitude', 'pickup_latitude',\n",
       "       'dropoff_longitude', 'dropoff_latitude', 'store_and_fwd_flag',\n",
       "       'trip_duration', 'pickup_day', 'dropoff_day', 'pickup_month',\n",
       "       'dropoff_month', 'pickup_hour', 'dropoff_hour', 'pickup_weekday',\n",
       "       'dropoff_weekday', 'pickup_timezone', 'dropoff_timezone', 'distance'],\n",
       "      dtype='object')"
      ]
     },
     "execution_count": 42,
     "metadata": {},
     "output_type": "execute_result"
    }
   ],
   "source": [
    "data.columns"
   ]
  },
  {
   "cell_type": "code",
   "execution_count": 43,
   "id": "d3ceab69",
   "metadata": {},
   "outputs": [],
   "source": [
    "#now we need to delete some columns which are no longer needed\n",
    "data.drop(['id','pickup_datetime','dropoff_datetime'], axis=1, inplace=True)"
   ]
  },
  {
   "cell_type": "code",
   "execution_count": 44,
   "id": "9811627a",
   "metadata": {},
   "outputs": [
    {
     "data": {
      "text/html": [
       "<div>\n",
       "<style scoped>\n",
       "    .dataframe tbody tr th:only-of-type {\n",
       "        vertical-align: middle;\n",
       "    }\n",
       "\n",
       "    .dataframe tbody tr th {\n",
       "        vertical-align: top;\n",
       "    }\n",
       "\n",
       "    .dataframe thead th {\n",
       "        text-align: right;\n",
       "    }\n",
       "</style>\n",
       "<table border=\"1\" class=\"dataframe\">\n",
       "  <thead>\n",
       "    <tr style=\"text-align: right;\">\n",
       "      <th></th>\n",
       "      <th>vendor_id</th>\n",
       "      <th>passenger_count</th>\n",
       "      <th>pickup_longitude</th>\n",
       "      <th>pickup_latitude</th>\n",
       "      <th>dropoff_longitude</th>\n",
       "      <th>dropoff_latitude</th>\n",
       "      <th>store_and_fwd_flag</th>\n",
       "      <th>trip_duration</th>\n",
       "      <th>pickup_day</th>\n",
       "      <th>dropoff_day</th>\n",
       "      <th>pickup_month</th>\n",
       "      <th>dropoff_month</th>\n",
       "      <th>pickup_hour</th>\n",
       "      <th>dropoff_hour</th>\n",
       "      <th>pickup_weekday</th>\n",
       "      <th>dropoff_weekday</th>\n",
       "      <th>pickup_timezone</th>\n",
       "      <th>dropoff_timezone</th>\n",
       "      <th>distance</th>\n",
       "    </tr>\n",
       "  </thead>\n",
       "  <tbody>\n",
       "    <tr>\n",
       "      <th>0</th>\n",
       "      <td>1</td>\n",
       "      <td>1</td>\n",
       "      <td>-73.953918</td>\n",
       "      <td>40.778873</td>\n",
       "      <td>-73.963875</td>\n",
       "      <td>40.771164</td>\n",
       "      <td>0</td>\n",
       "      <td>400</td>\n",
       "      <td>29</td>\n",
       "      <td>29</td>\n",
       "      <td>2</td>\n",
       "      <td>2</td>\n",
       "      <td>16</td>\n",
       "      <td>16</td>\n",
       "      <td>0</td>\n",
       "      <td>0</td>\n",
       "      <td>Evening</td>\n",
       "      <td>Evening</td>\n",
       "      <td>1.199074</td>\n",
       "    </tr>\n",
       "    <tr>\n",
       "      <th>1</th>\n",
       "      <td>0</td>\n",
       "      <td>2</td>\n",
       "      <td>-73.988312</td>\n",
       "      <td>40.731743</td>\n",
       "      <td>-73.994751</td>\n",
       "      <td>40.694931</td>\n",
       "      <td>0</td>\n",
       "      <td>1100</td>\n",
       "      <td>3</td>\n",
       "      <td>3</td>\n",
       "      <td>11</td>\n",
       "      <td>11</td>\n",
       "      <td>23</td>\n",
       "      <td>23</td>\n",
       "      <td>3</td>\n",
       "      <td>3</td>\n",
       "      <td>Late night</td>\n",
       "      <td>Late night</td>\n",
       "      <td>4.129117</td>\n",
       "    </tr>\n",
       "    <tr>\n",
       "      <th>2</th>\n",
       "      <td>1</td>\n",
       "      <td>2</td>\n",
       "      <td>-73.997314</td>\n",
       "      <td>40.721458</td>\n",
       "      <td>-73.948029</td>\n",
       "      <td>40.774918</td>\n",
       "      <td>0</td>\n",
       "      <td>1635</td>\n",
       "      <td>21</td>\n",
       "      <td>21</td>\n",
       "      <td>2</td>\n",
       "      <td>2</td>\n",
       "      <td>17</td>\n",
       "      <td>18</td>\n",
       "      <td>6</td>\n",
       "      <td>6</td>\n",
       "      <td>Evening</td>\n",
       "      <td>Evening</td>\n",
       "      <td>7.250763</td>\n",
       "    </tr>\n",
       "    <tr>\n",
       "      <th>3</th>\n",
       "      <td>1</td>\n",
       "      <td>6</td>\n",
       "      <td>-73.961670</td>\n",
       "      <td>40.759720</td>\n",
       "      <td>-73.956779</td>\n",
       "      <td>40.780628</td>\n",
       "      <td>0</td>\n",
       "      <td>1141</td>\n",
       "      <td>1</td>\n",
       "      <td>1</td>\n",
       "      <td>5</td>\n",
       "      <td>5</td>\n",
       "      <td>9</td>\n",
       "      <td>10</td>\n",
       "      <td>6</td>\n",
       "      <td>6</td>\n",
       "      <td>Morning</td>\n",
       "      <td>Morning</td>\n",
       "      <td>2.361100</td>\n",
       "    </tr>\n",
       "    <tr>\n",
       "      <th>4</th>\n",
       "      <td>0</td>\n",
       "      <td>1</td>\n",
       "      <td>-74.017120</td>\n",
       "      <td>40.708469</td>\n",
       "      <td>-73.988182</td>\n",
       "      <td>40.740631</td>\n",
       "      <td>0</td>\n",
       "      <td>848</td>\n",
       "      <td>17</td>\n",
       "      <td>17</td>\n",
       "      <td>2</td>\n",
       "      <td>2</td>\n",
       "      <td>6</td>\n",
       "      <td>6</td>\n",
       "      <td>2</td>\n",
       "      <td>2</td>\n",
       "      <td>Morning</td>\n",
       "      <td>Morning</td>\n",
       "      <td>4.328540</td>\n",
       "    </tr>\n",
       "  </tbody>\n",
       "</table>\n",
       "</div>"
      ],
      "text/plain": [
       "   vendor_id  passenger_count  pickup_longitude  pickup_latitude  \\\n",
       "0          1                1        -73.953918        40.778873   \n",
       "1          0                2        -73.988312        40.731743   \n",
       "2          1                2        -73.997314        40.721458   \n",
       "3          1                6        -73.961670        40.759720   \n",
       "4          0                1        -74.017120        40.708469   \n",
       "\n",
       "   dropoff_longitude  dropoff_latitude  store_and_fwd_flag  trip_duration  \\\n",
       "0         -73.963875         40.771164                   0            400   \n",
       "1         -73.994751         40.694931                   0           1100   \n",
       "2         -73.948029         40.774918                   0           1635   \n",
       "3         -73.956779         40.780628                   0           1141   \n",
       "4         -73.988182         40.740631                   0            848   \n",
       "\n",
       "   pickup_day  dropoff_day  pickup_month  dropoff_month  pickup_hour  \\\n",
       "0          29           29             2              2           16   \n",
       "1           3            3            11             11           23   \n",
       "2          21           21             2              2           17   \n",
       "3           1            1             5              5            9   \n",
       "4          17           17             2              2            6   \n",
       "\n",
       "   dropoff_hour  pickup_weekday  dropoff_weekday pickup_timezone  \\\n",
       "0            16               0                0         Evening   \n",
       "1            23               3                3      Late night   \n",
       "2            18               6                6         Evening   \n",
       "3            10               6                6         Morning   \n",
       "4             6               2                2         Morning   \n",
       "\n",
       "  dropoff_timezone  distance  \n",
       "0          Evening  1.199074  \n",
       "1       Late night  4.129117  \n",
       "2          Evening  7.250763  \n",
       "3          Morning  2.361100  \n",
       "4          Morning  4.328540  "
      ]
     },
     "execution_count": 44,
     "metadata": {},
     "output_type": "execute_result"
    }
   ],
   "source": [
    "data.head()"
   ]
  },
  {
   "cell_type": "code",
   "execution_count": 45,
   "id": "cea2e175",
   "metadata": {},
   "outputs": [],
   "source": [
    "data['pickup_timezone'] = enc.fit_transform(data['pickup_timezone'])\n",
    "data['dropoff_timezone'] = enc.fit_transform(data['dropoff_timezone'])"
   ]
  },
  {
   "cell_type": "markdown",
   "id": "deb52506",
   "metadata": {},
   "source": [
    "### 1.Choosing most suitable evaluation metrics\n",
    "\n",
    "R squared is taken as most suitable evaluation metrics\n",
    "\n"
   ]
  },
  {
   "cell_type": "markdown",
   "id": "2a32bd69",
   "metadata": {},
   "source": [
    "### Benchmark model"
   ]
  },
  {
   "cell_type": "code",
   "execution_count": 46,
   "id": "95161eb6",
   "metadata": {},
   "outputs": [],
   "source": [
    "#Predictors and Target Variable\n",
    "#Since our Evaluation Metric is RMSLE, we'll proceed further with Log Transformed \"Trip duration\".\n",
    "#Log Transformation Smoothens outliers by proving them less weightage.\n",
    "\n",
    "X = data.drop(['trip_duration'], axis=1)\n",
    "y = np.log(data['trip_duration'])"
   ]
  },
  {
   "cell_type": "code",
   "execution_count": null,
   "id": "d9701221",
   "metadata": {},
   "outputs": [],
   "source": []
  },
  {
   "cell_type": "code",
   "execution_count": 47,
   "id": "eeb96ecd",
   "metadata": {},
   "outputs": [
    {
     "data": {
      "text/plain": [
       "(20025, 18)"
      ]
     },
     "execution_count": 47,
     "metadata": {},
     "output_type": "execute_result"
    }
   ],
   "source": [
    "X.shape"
   ]
  },
  {
   "cell_type": "code",
   "execution_count": 48,
   "id": "1f30dd3a",
   "metadata": {},
   "outputs": [
    {
     "data": {
      "text/plain": [
       "(20025,)"
      ]
     },
     "execution_count": 48,
     "metadata": {},
     "output_type": "execute_result"
    }
   ],
   "source": [
    "y.shape"
   ]
  },
  {
   "cell_type": "code",
   "execution_count": 49,
   "id": "dd277904",
   "metadata": {},
   "outputs": [
    {
     "data": {
      "text/html": [
       "<div>\n",
       "<style scoped>\n",
       "    .dataframe tbody tr th:only-of-type {\n",
       "        vertical-align: middle;\n",
       "    }\n",
       "\n",
       "    .dataframe tbody tr th {\n",
       "        vertical-align: top;\n",
       "    }\n",
       "\n",
       "    .dataframe thead th {\n",
       "        text-align: right;\n",
       "    }\n",
       "</style>\n",
       "<table border=\"1\" class=\"dataframe\">\n",
       "  <thead>\n",
       "    <tr style=\"text-align: right;\">\n",
       "      <th></th>\n",
       "      <th>vendor_id</th>\n",
       "      <th>passenger_count</th>\n",
       "      <th>pickup_longitude</th>\n",
       "      <th>pickup_latitude</th>\n",
       "      <th>dropoff_longitude</th>\n",
       "      <th>dropoff_latitude</th>\n",
       "      <th>store_and_fwd_flag</th>\n",
       "      <th>pickup_day</th>\n",
       "      <th>dropoff_day</th>\n",
       "      <th>pickup_month</th>\n",
       "      <th>dropoff_month</th>\n",
       "      <th>pickup_hour</th>\n",
       "      <th>dropoff_hour</th>\n",
       "      <th>pickup_weekday</th>\n",
       "      <th>dropoff_weekday</th>\n",
       "      <th>pickup_timezone</th>\n",
       "      <th>dropoff_timezone</th>\n",
       "      <th>distance</th>\n",
       "    </tr>\n",
       "  </thead>\n",
       "  <tbody>\n",
       "    <tr>\n",
       "      <th>0</th>\n",
       "      <td>1.0</td>\n",
       "      <td>0.0</td>\n",
       "      <td>0.426848</td>\n",
       "      <td>0.594058</td>\n",
       "      <td>0.393617</td>\n",
       "      <td>0.584517</td>\n",
       "      <td>0.0</td>\n",
       "      <td>0.933333</td>\n",
       "      <td>0.933333</td>\n",
       "      <td>0.090909</td>\n",
       "      <td>0.090909</td>\n",
       "      <td>0.695652</td>\n",
       "      <td>0.695652</td>\n",
       "      <td>0.000000</td>\n",
       "      <td>0.000000</td>\n",
       "      <td>0.333333</td>\n",
       "      <td>0.333333</td>\n",
       "      <td>0.023429</td>\n",
       "    </tr>\n",
       "    <tr>\n",
       "      <th>1</th>\n",
       "      <td>0.0</td>\n",
       "      <td>0.2</td>\n",
       "      <td>0.361262</td>\n",
       "      <td>0.535733</td>\n",
       "      <td>0.363403</td>\n",
       "      <td>0.490179</td>\n",
       "      <td>0.0</td>\n",
       "      <td>0.066667</td>\n",
       "      <td>0.066667</td>\n",
       "      <td>0.909091</td>\n",
       "      <td>0.909091</td>\n",
       "      <td>1.000000</td>\n",
       "      <td>1.000000</td>\n",
       "      <td>0.500000</td>\n",
       "      <td>0.500000</td>\n",
       "      <td>0.666667</td>\n",
       "      <td>0.666667</td>\n",
       "      <td>0.080680</td>\n",
       "    </tr>\n",
       "    <tr>\n",
       "      <th>2</th>\n",
       "      <td>1.0</td>\n",
       "      <td>0.2</td>\n",
       "      <td>0.344095</td>\n",
       "      <td>0.523006</td>\n",
       "      <td>0.409123</td>\n",
       "      <td>0.589162</td>\n",
       "      <td>0.0</td>\n",
       "      <td>0.666667</td>\n",
       "      <td>0.666667</td>\n",
       "      <td>0.090909</td>\n",
       "      <td>0.090909</td>\n",
       "      <td>0.739130</td>\n",
       "      <td>0.782609</td>\n",
       "      <td>1.000000</td>\n",
       "      <td>1.000000</td>\n",
       "      <td>0.333333</td>\n",
       "      <td>0.333333</td>\n",
       "      <td>0.141675</td>\n",
       "    </tr>\n",
       "    <tr>\n",
       "      <th>3</th>\n",
       "      <td>1.0</td>\n",
       "      <td>1.0</td>\n",
       "      <td>0.412067</td>\n",
       "      <td>0.570355</td>\n",
       "      <td>0.400560</td>\n",
       "      <td>0.596229</td>\n",
       "      <td>0.0</td>\n",
       "      <td>0.000000</td>\n",
       "      <td>0.000000</td>\n",
       "      <td>0.363636</td>\n",
       "      <td>0.363636</td>\n",
       "      <td>0.391304</td>\n",
       "      <td>0.434783</td>\n",
       "      <td>1.000000</td>\n",
       "      <td>1.000000</td>\n",
       "      <td>1.000000</td>\n",
       "      <td>1.000000</td>\n",
       "      <td>0.046134</td>\n",
       "    </tr>\n",
       "    <tr>\n",
       "      <th>4</th>\n",
       "      <td>0.0</td>\n",
       "      <td>0.0</td>\n",
       "      <td>0.306326</td>\n",
       "      <td>0.506932</td>\n",
       "      <td>0.369831</td>\n",
       "      <td>0.546733</td>\n",
       "      <td>0.0</td>\n",
       "      <td>0.533333</td>\n",
       "      <td>0.533333</td>\n",
       "      <td>0.090909</td>\n",
       "      <td>0.090909</td>\n",
       "      <td>0.260870</td>\n",
       "      <td>0.260870</td>\n",
       "      <td>0.333333</td>\n",
       "      <td>0.333333</td>\n",
       "      <td>1.000000</td>\n",
       "      <td>1.000000</td>\n",
       "      <td>0.084576</td>\n",
       "    </tr>\n",
       "  </tbody>\n",
       "</table>\n",
       "</div>"
      ],
      "text/plain": [
       "   vendor_id  passenger_count  pickup_longitude  pickup_latitude  \\\n",
       "0        1.0              0.0          0.426848         0.594058   \n",
       "1        0.0              0.2          0.361262         0.535733   \n",
       "2        1.0              0.2          0.344095         0.523006   \n",
       "3        1.0              1.0          0.412067         0.570355   \n",
       "4        0.0              0.0          0.306326         0.506932   \n",
       "\n",
       "   dropoff_longitude  dropoff_latitude  store_and_fwd_flag  pickup_day  \\\n",
       "0           0.393617          0.584517                 0.0    0.933333   \n",
       "1           0.363403          0.490179                 0.0    0.066667   \n",
       "2           0.409123          0.589162                 0.0    0.666667   \n",
       "3           0.400560          0.596229                 0.0    0.000000   \n",
       "4           0.369831          0.546733                 0.0    0.533333   \n",
       "\n",
       "   dropoff_day  pickup_month  dropoff_month  pickup_hour  dropoff_hour  \\\n",
       "0     0.933333      0.090909       0.090909     0.695652      0.695652   \n",
       "1     0.066667      0.909091       0.909091     1.000000      1.000000   \n",
       "2     0.666667      0.090909       0.090909     0.739130      0.782609   \n",
       "3     0.000000      0.363636       0.363636     0.391304      0.434783   \n",
       "4     0.533333      0.090909       0.090909     0.260870      0.260870   \n",
       "\n",
       "   pickup_weekday  dropoff_weekday  pickup_timezone  dropoff_timezone  \\\n",
       "0        0.000000         0.000000         0.333333          0.333333   \n",
       "1        0.500000         0.500000         0.666667          0.666667   \n",
       "2        1.000000         1.000000         0.333333          0.333333   \n",
       "3        1.000000         1.000000         1.000000          1.000000   \n",
       "4        0.333333         0.333333         1.000000          1.000000   \n",
       "\n",
       "   distance  \n",
       "0  0.023429  \n",
       "1  0.080680  \n",
       "2  0.141675  \n",
       "3  0.046134  \n",
       "4  0.084576  "
      ]
     },
     "execution_count": 49,
     "metadata": {},
     "output_type": "execute_result"
    }
   ],
   "source": [
    "# Normalising Predictors and creating new dataframe\n",
    "\n",
    "from sklearn.preprocessing import MinMaxScaler\n",
    "cols=X.columns\n",
    "scaler = MinMaxScaler()\n",
    "\n",
    "new_df = scaler.fit_transform(X)\n",
    "new_df = pd.DataFrame(new_df, columns=cols)\n",
    "new_df.head()"
   ]
  },
  {
   "cell_type": "code",
   "execution_count": 52,
   "id": "4968ab47",
   "metadata": {
    "scrolled": true
   },
   "outputs": [
    {
     "data": {
      "text/html": [
       "<div>\n",
       "<style scoped>\n",
       "    .dataframe tbody tr th:only-of-type {\n",
       "        vertical-align: middle;\n",
       "    }\n",
       "\n",
       "    .dataframe tbody tr th {\n",
       "        vertical-align: top;\n",
       "    }\n",
       "\n",
       "    .dataframe thead th {\n",
       "        text-align: right;\n",
       "    }\n",
       "</style>\n",
       "<table border=\"1\" class=\"dataframe\">\n",
       "  <thead>\n",
       "    <tr style=\"text-align: right;\">\n",
       "      <th></th>\n",
       "      <th>vendor_id</th>\n",
       "      <th>passenger_count</th>\n",
       "      <th>pickup_longitude</th>\n",
       "      <th>pickup_latitude</th>\n",
       "      <th>dropoff_longitude</th>\n",
       "      <th>dropoff_latitude</th>\n",
       "      <th>store_and_fwd_flag</th>\n",
       "      <th>pickup_day</th>\n",
       "      <th>dropoff_day</th>\n",
       "      <th>pickup_month</th>\n",
       "      <th>dropoff_month</th>\n",
       "      <th>pickup_hour</th>\n",
       "      <th>dropoff_hour</th>\n",
       "      <th>pickup_weekday</th>\n",
       "      <th>dropoff_weekday</th>\n",
       "      <th>pickup_timezone</th>\n",
       "      <th>dropoff_timezone</th>\n",
       "      <th>distance</th>\n",
       "    </tr>\n",
       "  </thead>\n",
       "  <tbody>\n",
       "    <tr>\n",
       "      <th>0</th>\n",
       "      <td>0.931517</td>\n",
       "      <td>-0.504516</td>\n",
       "      <td>0.280947</td>\n",
       "      <td>0.832141</td>\n",
       "      <td>0.137215</td>\n",
       "      <td>0.538014</td>\n",
       "      <td>-0.074618</td>\n",
       "      <td>1.551517</td>\n",
       "      <td>1.551469</td>\n",
       "      <td>-0.903488</td>\n",
       "      <td>-0.903615</td>\n",
       "      <td>0.372979</td>\n",
       "      <td>0.369032</td>\n",
       "      <td>-1.560055</td>\n",
       "      <td>-1.560152</td>\n",
       "      <td>-0.481431</td>\n",
       "      <td>-0.478211</td>\n",
       "      <td>-0.515078</td>\n",
       "    </tr>\n",
       "    <tr>\n",
       "      <th>1</th>\n",
       "      <td>-1.073518</td>\n",
       "      <td>0.257450</td>\n",
       "      <td>-0.212130</td>\n",
       "      <td>-0.570882</td>\n",
       "      <td>-0.306490</td>\n",
       "      <td>-1.577482</td>\n",
       "      <td>-0.074618</td>\n",
       "      <td>-0.517507</td>\n",
       "      <td>-0.517569</td>\n",
       "      <td>-0.308483</td>\n",
       "      <td>-0.308665</td>\n",
       "      <td>1.466268</td>\n",
       "      <td>1.448240</td>\n",
       "      <td>0.486557</td>\n",
       "      <td>0.483952</td>\n",
       "      <td>0.457054</td>\n",
       "      <td>0.468700</td>\n",
       "      <td>0.158024</td>\n",
       "    </tr>\n",
       "    <tr>\n",
       "      <th>2</th>\n",
       "      <td>0.931517</td>\n",
       "      <td>0.257450</td>\n",
       "      <td>-0.341196</td>\n",
       "      <td>-0.877037</td>\n",
       "      <td>0.364933</td>\n",
       "      <td>0.642180</td>\n",
       "      <td>-0.074618</td>\n",
       "      <td>0.631951</td>\n",
       "      <td>0.631896</td>\n",
       "      <td>-0.903488</td>\n",
       "      <td>-0.903615</td>\n",
       "      <td>0.529163</td>\n",
       "      <td>0.677377</td>\n",
       "      <td>1.509863</td>\n",
       "      <td>1.506003</td>\n",
       "      <td>-0.481431</td>\n",
       "      <td>-0.478211</td>\n",
       "      <td>0.875141</td>\n",
       "    </tr>\n",
       "    <tr>\n",
       "      <th>3</th>\n",
       "      <td>0.931517</td>\n",
       "      <td>3.305313</td>\n",
       "      <td>0.169819</td>\n",
       "      <td>0.261961</td>\n",
       "      <td>0.239178</td>\n",
       "      <td>0.800652</td>\n",
       "      <td>-0.074618</td>\n",
       "      <td>-1.207182</td>\n",
       "      <td>-1.207248</td>\n",
       "      <td>-1.498492</td>\n",
       "      <td>-1.498566</td>\n",
       "      <td>-0.720310</td>\n",
       "      <td>-0.556003</td>\n",
       "      <td>-1.048402</td>\n",
       "      <td>-1.049126</td>\n",
       "      <td>1.395539</td>\n",
       "      <td>1.415611</td>\n",
       "      <td>-0.248132</td>\n",
       "    </tr>\n",
       "    <tr>\n",
       "      <th>4</th>\n",
       "      <td>-1.073518</td>\n",
       "      <td>-0.504516</td>\n",
       "      <td>-0.625142</td>\n",
       "      <td>-1.263706</td>\n",
       "      <td>-0.212092</td>\n",
       "      <td>-0.309285</td>\n",
       "      <td>-0.074618</td>\n",
       "      <td>0.172168</td>\n",
       "      <td>0.172110</td>\n",
       "      <td>-0.903488</td>\n",
       "      <td>-0.903615</td>\n",
       "      <td>-1.188862</td>\n",
       "      <td>-1.172693</td>\n",
       "      <td>-0.536749</td>\n",
       "      <td>-0.538100</td>\n",
       "      <td>1.395539</td>\n",
       "      <td>1.415611</td>\n",
       "      <td>0.203836</td>\n",
       "    </tr>\n",
       "  </tbody>\n",
       "</table>\n",
       "</div>"
      ],
      "text/plain": [
       "   vendor_id  passenger_count  pickup_longitude  pickup_latitude  \\\n",
       "0   0.931517        -0.504516          0.280947         0.832141   \n",
       "1  -1.073518         0.257450         -0.212130        -0.570882   \n",
       "2   0.931517         0.257450         -0.341196        -0.877037   \n",
       "3   0.931517         3.305313          0.169819         0.261961   \n",
       "4  -1.073518        -0.504516         -0.625142        -1.263706   \n",
       "\n",
       "   dropoff_longitude  dropoff_latitude  store_and_fwd_flag  pickup_day  \\\n",
       "0           0.137215          0.538014           -0.074618    1.551517   \n",
       "1          -0.306490         -1.577482           -0.074618   -0.517507   \n",
       "2           0.364933          0.642180           -0.074618    0.631951   \n",
       "3           0.239178          0.800652           -0.074618   -1.207182   \n",
       "4          -0.212092         -0.309285           -0.074618    0.172168   \n",
       "\n",
       "   dropoff_day  pickup_month  dropoff_month  pickup_hour  dropoff_hour  \\\n",
       "0     1.551469     -0.903488      -0.903615     0.372979      0.369032   \n",
       "1    -0.517569     -0.308483      -0.308665     1.466268      1.448240   \n",
       "2     0.631896     -0.903488      -0.903615     0.529163      0.677377   \n",
       "3    -1.207248     -1.498492      -1.498566    -0.720310     -0.556003   \n",
       "4     0.172110     -0.903488      -0.903615    -1.188862     -1.172693   \n",
       "\n",
       "   pickup_weekday  dropoff_weekday  pickup_timezone  dropoff_timezone  \\\n",
       "0       -1.560055        -1.560152        -0.481431         -0.478211   \n",
       "1        0.486557         0.483952         0.457054          0.468700   \n",
       "2        1.509863         1.506003        -0.481431         -0.478211   \n",
       "3       -1.048402        -1.049126         1.395539          1.415611   \n",
       "4       -0.536749        -0.538100         1.395539          1.415611   \n",
       "\n",
       "   distance  \n",
       "0 -0.515078  \n",
       "1  0.158024  \n",
       "2  0.875141  \n",
       "3 -0.248132  \n",
       "4  0.203836  "
      ]
     },
     "execution_count": 52,
     "metadata": {},
     "output_type": "execute_result"
    }
   ],
   "source": [
    "# Normalising Predictors and creating new dataframe\n",
    "\n",
    "#from sklearn.preprocessing import StandardScaler\n",
    "\n",
    "#cols = X.columns\n",
    "\n",
    "#ss = StandardScaler()\n",
    "\n",
    "#new_df = ss.fit_transform(X)\n",
    "#new_df = pd.DataFrame(new_df, columns=cols)\n",
    "#new_df.head()"
   ]
  },
  {
   "cell_type": "code",
   "execution_count": 50,
   "id": "f2fbdf50",
   "metadata": {},
   "outputs": [],
   "source": [
    "X = new_df\n",
    "y = np.log(data['trip_duration']).values"
   ]
  },
  {
   "cell_type": "code",
   "execution_count": 51,
   "id": "84d14569",
   "metadata": {},
   "outputs": [
    {
     "data": {
      "text/plain": [
       "((14017, 18), (6008, 18), (14017,), (6008,))"
      ]
     },
     "execution_count": 51,
     "metadata": {},
     "output_type": "execute_result"
    }
   ],
   "source": [
    "#importing train test split & some important metrics\n",
    "\n",
    "from sklearn.model_selection import train_test_split, GridSearchCV, cross_val_score\n",
    "from sklearn.metrics import r2_score, mean_squared_log_error , mean_squared_error\n",
    "\n",
    "X_train, X_test, y_train, y_test = train_test_split(X, y, test_size=0.30, random_state=10)\n",
    "X_train.shape, X_test.shape, y_train.shape, y_test.shape"
   ]
  },
  {
   "cell_type": "markdown",
   "id": "1e1f03d2",
   "metadata": {},
   "source": [
    "## Linear regression"
   ]
  },
  {
   "cell_type": "code",
   "execution_count": 52,
   "id": "dc574312",
   "metadata": {},
   "outputs": [
    {
     "data": {
      "text/plain": [
       "array([6.14791571, 6.27541966, 6.62711175, ..., 6.30231967, 6.32553303,\n",
       "       7.9238359 ])"
      ]
     },
     "execution_count": 52,
     "metadata": {},
     "output_type": "execute_result"
    }
   ],
   "source": [
    "#implementing Linear regression\n",
    "\n",
    "from sklearn.linear_model import LinearRegression\n",
    "\n",
    "est_lr = LinearRegression()\n",
    "est_lr.fit(X_train, y_train)\n",
    "lr_pred = est_lr.predict(X_test)\n",
    "lr_pred"
   ]
  },
  {
   "cell_type": "code",
   "execution_count": 53,
   "id": "5fd9df0f",
   "metadata": {},
   "outputs": [
    {
     "name": "stdout",
     "output_type": "stream",
     "text": [
      "Training Score :  0.42710720307745376\n",
      "Validation Score :  0.4219820919410735\n",
      "Cross Validation Score :  0.4224553910635274\n",
      "R2_Score :  -0.3553065738962915\n",
      "RMSLE :  0.09035062700809271\n"
     ]
    }
   ],
   "source": [
    "#examining scores\n",
    "\n",
    "print (\"Training Score : \" , est_lr.score(X_train, y_train))\n",
    "\n",
    "print (\"Validation Score : \", est_lr.score(X_test, y_test))\n",
    "\n",
    "print (\"Cross Validation Score : \" , cross_val_score(est_lr, X_train, y_train, cv=5).mean())\n",
    "\n",
    "print (\"R2_Score : \", r2_score(lr_pred, y_test))\n",
    "\n",
    "print (\"RMSLE : \", np.sqrt(mean_squared_log_error(lr_pred, y_test)))"
   ]
  },
  {
   "cell_type": "code",
   "execution_count": 54,
   "id": "1aeebac5",
   "metadata": {},
   "outputs": [
    {
     "name": "stderr",
     "output_type": "stream",
     "text": [
      "C:\\Users\\USER\\anaconda3.x\\lib\\site-packages\\seaborn\\distributions.py:2619: FutureWarning: `distplot` is a deprecated function and will be removed in a future version. Please adapt your code to use either `displot` (a figure-level function with similar flexibility) or `histplot` (an axes-level function for histograms).\n",
      "  warnings.warn(msg, FutureWarning)\n"
     ]
    },
    {
     "data": {
      "text/plain": [
       "Text(0.5, 1.0, 'Test VS Prediction')"
      ]
     },
     "execution_count": 54,
     "metadata": {},
     "output_type": "execute_result"
    },
    {
     "data": {
      "image/png": "[encoded data removed]",
      "text/plain": [
       "<Figure size 1080x576 with 1 Axes>"
      ]
     },
     "metadata": {
      "needs_background": "light"
     },
     "output_type": "display_data"
    }
   ],
   "source": [
    "#prediction vs real data\n",
    "\n",
    "plt.figure(figsize=(15,8))\n",
    "plt.subplot(1,1,1)\n",
    "sns.distplot(y_test, kde=False, color=\"black\", label=\"Test\")\n",
    "\n",
    "plt.subplot(1,1,1)\n",
    "sns.distplot(lr_pred, kde=False, color=\"g\", label=\"Prediction\")\n",
    "plt.legend()\n",
    "plt.title(\"Test VS Prediction\")"
   ]
  },
  {
   "cell_type": "markdown",
   "id": "28817b2c",
   "metadata": {},
   "source": [
    "The graph above shows us that Linear Regression isn't performing well.The Actual Data (Black) and Predicted values (Green) are  much differing. So we can conclude that Linear Regression doesn't seem like a right choice for Trip duration prediction."
   ]
  },
  {
   "cell_type": "markdown",
   "id": "a60ab93c",
   "metadata": {},
   "source": [
    "## Decision tree"
   ]
  },
  {
   "cell_type": "code",
   "execution_count": 55,
   "id": "1f443a67",
   "metadata": {},
   "outputs": [
    {
     "data": {
      "text/plain": [
       "array([5.47216474, 6.49151912, 6.60105732, ..., 6.85677318, 6.9356202 ,\n",
       "       7.51344477])"
      ]
     },
     "execution_count": 55,
     "metadata": {},
     "output_type": "execute_result"
    }
   ],
   "source": [
    "#implementation of decision tree\n",
    "\n",
    "from sklearn.tree import DecisionTreeRegressor\n",
    "\n",
    "est_dt = DecisionTreeRegressor(criterion=\"mse\", max_depth=10)\n",
    "est_dt.fit(X_train, y_train)\n",
    "dt_pred = est_dt.predict(X_test)\n",
    "dt_pred"
   ]
  },
  {
   "cell_type": "code",
   "execution_count": 56,
   "id": "0d121f93",
   "metadata": {},
   "outputs": [
    {
     "name": "stdout",
     "output_type": "stream",
     "text": [
      "Training Score :  0.7839978021946734\n",
      "Validation Score :  0.535283581988699\n",
      "Cross Validation Score :  0.5533697604312792\n",
      "R2_Score :  0.40582022304016685\n",
      "RMSLE :  0.07953457011755725\n"
     ]
    }
   ],
   "source": [
    "#examining metrics\n",
    "\n",
    "print (\"Training Score : \" , est_dt.score(X_train, y_train))\n",
    "\n",
    "print (\"Validation Score : \", est_dt.score(X_test, y_test))\n",
    "\n",
    "print (\"Cross Validation Score : \" , cross_val_score(est_dt, X_train, y_train, cv=5).mean())\n",
    "\n",
    "print (\"R2_Score : \", r2_score(dt_pred, y_test))\n",
    "\n",
    "print (\"RMSLE : \", np.sqrt(mean_squared_log_error(dt_pred, y_test)))"
   ]
  },
  {
   "cell_type": "code",
   "execution_count": 65,
   "id": "409d3cdb",
   "metadata": {},
   "outputs": [
    {
     "name": "stderr",
     "output_type": "stream",
     "text": [
      "C:\\Users\\USER\\anaconda3.x\\lib\\site-packages\\seaborn\\distributions.py:2619: FutureWarning: `distplot` is a deprecated function and will be removed in a future version. Please adapt your code to use either `displot` (a figure-level function with similar flexibility) or `histplot` (an axes-level function for histograms).\n",
      "  warnings.warn(msg, FutureWarning)\n"
     ]
    },
    {
     "data": {
      "text/plain": [
       "Text(0.5, 1.0, 'Test VS Prediction')"
      ]
     },
     "execution_count": 65,
     "metadata": {},
     "output_type": "execute_result"
    },
    {
     "data": {
      "image/png": "[encoded data removed]",
      "text/plain": [
       "<Figure size 1080x576 with 1 Axes>"
      ]
     },
     "metadata": {
      "needs_background": "light"
     },
     "output_type": "display_data"
    }
   ],
   "source": [
    "#prediction vs real data\n",
    "\n",
    "plt.figure(figsize=(15,8))\n",
    "plt.subplot(1,1,1)\n",
    "sns.distplot(y_test, kde=False, color=\"black\", label=\"Test\")\n",
    "\n",
    "plt.subplot(1,1,1)\n",
    "sns.distplot(dt_pred, kde=False, color=\"cyan\", label=\"Prediction\")\n",
    "plt.legend()\n",
    "plt.title(\"Test VS Prediction\")"
   ]
  },
  {
   "cell_type": "markdown",
   "id": "5db252a4",
   "metadata": {},
   "source": [
    "From the above graph we can clearly say that the Decision Tree Algorithm is performing good. The Actual Data (black) and Predicted values (cyan) are as close as possible. We can conclude that Decision Tree could be a good choice for Trip duration prediction."
   ]
  },
  {
   "cell_type": "markdown",
   "id": "c38ac4c0",
   "metadata": {},
   "source": [
    "Variable importance. \n",
    " \n",
    "The basic decision trees use Gini Index or Information Gain to help determine which variables are most important.  That most important variable is then put at the top of your tree."
   ]
  },
  {
   "cell_type": "markdown",
   "id": "e0fc35d3",
   "metadata": {},
   "source": [
    "## Random forest"
   ]
  },
  {
   "cell_type": "code",
   "execution_count": 57,
   "id": "6df135e3",
   "metadata": {},
   "outputs": [
    {
     "data": {
      "text/plain": [
       "array([5.76858827, 6.41824705, 6.6278346 , ..., 6.82830738, 6.70406674,\n",
       "       7.37851282])"
      ]
     },
     "execution_count": 57,
     "metadata": {},
     "output_type": "execute_result"
    }
   ],
   "source": [
    "#random forest implementation\n",
    "\n",
    "from sklearn.ensemble import RandomForestRegressor\n",
    "\n",
    "est_rf = RandomForestRegressor(criterion=\"mse\", n_estimators=5, max_depth=10)\n",
    "est_rf.fit(X_train, y_train)\n",
    "rf_pred = est_rf.predict(X_test)\n",
    "rf_pred"
   ]
  },
  {
   "cell_type": "code",
   "execution_count": 58,
   "id": "3d07f2ed",
   "metadata": {},
   "outputs": [
    {
     "name": "stdout",
     "output_type": "stream",
     "text": [
      "Training Score :  0.7896184367495945\n",
      "Validation Score :  0.6158910548407269\n",
      "Cross Validation Score :  0.6442416982631338\n",
      "R2_Score :  0.45037333478758257\n",
      "RMSLE :  0.07427553856414787\n"
     ]
    }
   ],
   "source": [
    "#examining metrics \n",
    "\n",
    "print (\"Training Score : \" , est_rf.score(X_train, y_train))\n",
    "\n",
    "print (\"Validation Score : \", est_rf.score(X_test, y_test))\n",
    "\n",
    "print (\"Cross Validation Score : \" , cross_val_score(est_rf, X_train, y_train, cv=5).mean())\n",
    "\n",
    "print (\"R2_Score : \", r2_score(rf_pred, y_test))\n",
    "\n",
    "print (\"RMSLE : \", np.sqrt(mean_squared_log_error(rf_pred, y_test)))"
   ]
  },
  {
   "cell_type": "code",
   "execution_count": 68,
   "id": "8b15749a",
   "metadata": {},
   "outputs": [
    {
     "name": "stderr",
     "output_type": "stream",
     "text": [
      "C:\\Users\\USER\\anaconda3.x\\lib\\site-packages\\seaborn\\distributions.py:2619: FutureWarning: `distplot` is a deprecated function and will be removed in a future version. Please adapt your code to use either `displot` (a figure-level function with similar flexibility) or `histplot` (an axes-level function for histograms).\n",
      "  warnings.warn(msg, FutureWarning)\n"
     ]
    },
    {
     "data": {
      "text/plain": [
       "Text(0.5, 1.0, 'Test VS Prediction')"
      ]
     },
     "execution_count": 68,
     "metadata": {},
     "output_type": "execute_result"
    },
    {
     "data": {
      "image/png": "[encoded data removed]",
      "text/plain": [
       "<Figure size 1080x576 with 1 Axes>"
      ]
     },
     "metadata": {
      "needs_background": "light"
     },
     "output_type": "display_data"
    }
   ],
   "source": [
    "#prediction vs real data\n",
    "\n",
    "plt.figure(figsize=(15,8))\n",
    "plt.subplot(1,1,1)\n",
    "sns.distplot(y_test, kde=False, color=\"black\", label=\"Test\")\n",
    "\n",
    "plt.subplot(1,1,1)\n",
    "sns.distplot(rf_pred, kde=False, color=\"indigo\", label=\"Prediction\")\n",
    "plt.legend()\n",
    "plt.title(\"Test VS Prediction\")"
   ]
  },
  {
   "cell_type": "markdown",
   "id": "189616d3",
   "metadata": {},
   "source": [
    "From the above graph we can clearly identify that the Random Forest Algorithm is also performing good. The Actual Data (Black) and Predicted values (Purple) are as close as possible. We can conclude that Random Forest could be a good choice for Trip duration prediction."
   ]
  },
  {
   "cell_type": "markdown",
   "id": "e87dcb8e",
   "metadata": {},
   "source": [
    "## KNN"
   ]
  },
  {
   "cell_type": "code",
   "execution_count": 59,
   "id": "d048339f",
   "metadata": {},
   "outputs": [],
   "source": [
    "#import required packages\n",
    "from sklearn import neighbors\n",
    "from sklearn.metrics import mean_squared_error \n",
    "from math import sqrt\n",
    "import matplotlib.pyplot as plt\n",
    "%matplotlib inline\n",
    "\n",
    "#importing KNN regressor and metric mse\n",
    "\n",
    "from sklearn.neighbors import KNeighborsRegressor as KNN\n",
    "from sklearn.metrics import mean_squared_error as mse"
   ]
  },
  {
   "cell_type": "code",
   "execution_count": 60,
   "id": "d03f029e",
   "metadata": {},
   "outputs": [
    {
     "name": "stdout",
     "output_type": "stream",
     "text": [
      "RMSE value for k=  1 is: 0.9150015206307589\n",
      "RMSE value for k=  2 is: 0.81594809609296\n",
      "RMSE value for k=  3 is: 0.7876703412656885\n",
      "RMSE value for k=  4 is: 0.7723521258457953\n",
      "RMSE value for k=  5 is: 0.7635717296294392\n",
      "RMSE value for k=  6 is: 0.7594316219629963\n",
      "RMSE value for k=  7 is: 0.7530626180951984\n",
      "RMSE value for k=  8 is: 0.749852485537742\n",
      "RMSE value for k=  9 is: 0.7491659298602853\n",
      "RMSE value for k=  10 is: 0.7477708030512633\n",
      "RMSE value for k=  11 is: 0.7452501795499008\n",
      "RMSE value for k=  12 is: 0.7439258003287154\n",
      "RMSE value for k=  13 is: 0.7438948896545999\n",
      "RMSE value for k=  14 is: 0.7449373527973939\n",
      "RMSE value for k=  15 is: 0.7457058073008224\n",
      "RMSE value for k=  16 is: 0.7450447146903081\n",
      "RMSE value for k=  17 is: 0.7457649665394092\n",
      "RMSE value for k=  18 is: 0.7468660572686129\n",
      "RMSE value for k=  19 is: 0.7471818912624184\n",
      "RMSE value for k=  20 is: 0.7473241979851789\n"
     ]
    }
   ],
   "source": [
    "#to store rmse values for different k\n",
    "rmse_val = [] #to store rmse values for different k\n",
    "for K in range(20):\n",
    "    K = K+1\n",
    "    model = neighbors.KNeighborsRegressor(n_neighbors = K)\n",
    "\n",
    "    model.fit(X_train, y_train)  #fit the model\n",
    "    pred=model.predict(X_test) #make prediction on test set\n",
    "    error = sqrt(mean_squared_error(y_test,pred)) #calculate rmse\n",
    "    rmse_val.append(error) #store rmse values\n",
    "    print('RMSE value for k= ' , K , 'is:', error)"
   ]
  },
  {
   "cell_type": "code",
   "execution_count": 61,
   "id": "20f691ed",
   "metadata": {},
   "outputs": [
    {
     "data": {
      "text/plain": [
       "<AxesSubplot:>"
      ]
     },
     "execution_count": 61,
     "metadata": {},
     "output_type": "execute_result"
    },
    {
     "data": {
      "image/png": "[encoded data removed]",
      "text/plain": [
       "<Figure size 432x288 with 1 Axes>"
      ]
     },
     "metadata": {
      "needs_background": "light"
     },
     "output_type": "display_data"
    }
   ],
   "source": [
    "#plotting the rmse values against k values\n",
    "curve = pd.DataFrame(rmse_val) #elbow curve \n",
    "curve.plot()"
   ]
  },
  {
   "cell_type": "markdown",
   "id": "51772560",
   "metadata": {},
   "source": [
    "when we take k=1, we get a very high RMSE value. The RMSE value decreases as we increase the k value. At k= 12, the RMSE is approximately 0.7439, and goes higher on further increasing the k value. We can say that k=12 will give us the best result in this case."
   ]
  },
  {
   "cell_type": "code",
   "execution_count": 66,
   "id": "f4808b80",
   "metadata": {},
   "outputs": [
    {
     "name": "stdout",
     "output_type": "stream",
     "text": [
      "Test MSE     0.5534255963947197\n"
     ]
    }
   ],
   "source": [
    "# Creating instance of KNN\n",
    "est_knn = KNN(n_neighbors = 12)\n",
    "\n",
    "# Fitting the model\n",
    "est_knn.fit(X_train, y_train)\n",
    "\n",
    "# Predicting over the Train Set and calculating F1\n",
    "knn_pred = est_knn.predict(X_test)\n",
    "k = mse(test_predict, y_test)\n",
    "print('Test MSE    ', k )"
   ]
  },
  {
   "cell_type": "code",
   "execution_count": 67,
   "id": "4ed1de91",
   "metadata": {},
   "outputs": [
    {
     "name": "stdout",
     "output_type": "stream",
     "text": [
      "Training Score :  0.25451805348241674\n",
      "Validation Score :  0.13736323738249245\n",
      "Cross Validation Score :  0.09653879214391256\n",
      "R2_Score :  -5.900879865164551\n",
      "RMSLE :  0.10793042843758607\n"
     ]
    }
   ],
   "source": [
    "#examining metrics \n",
    "\n",
    "print (\"Training Score : \" , est_knn.score(X_train, y_train))\n",
    "\n",
    "print (\"Validation Score : \", est_knn.score(X_test, y_test))\n",
    "\n",
    "print (\"Cross Validation Score : \" , cross_val_score(est_knn, X_train, y_train, cv=5).mean())\n",
    "\n",
    "print (\"R2_Score : \", r2_score(knn_pred, y_test))\n",
    "\n",
    "print (\"RMSLE : \", np.sqrt(mean_squared_log_error(knn_pred, y_test)))"
   ]
  },
  {
   "cell_type": "code",
   "execution_count": 68,
   "id": "90ecdd7f",
   "metadata": {},
   "outputs": [
    {
     "name": "stderr",
     "output_type": "stream",
     "text": [
      "C:\\Users\\USER\\anaconda3.x\\lib\\site-packages\\seaborn\\distributions.py:2619: FutureWarning: `distplot` is a deprecated function and will be removed in a future version. Please adapt your code to use either `displot` (a figure-level function with similar flexibility) or `histplot` (an axes-level function for histograms).\n",
      "  warnings.warn(msg, FutureWarning)\n"
     ]
    },
    {
     "data": {
      "text/plain": [
       "Text(0.5, 1.0, 'Test VS Prediction')"
      ]
     },
     "execution_count": 68,
     "metadata": {},
     "output_type": "execute_result"
    },
    {
     "data": {
      "image/png": "[encoded data removed]",
      "text/plain": [
       "<Figure size 1080x576 with 1 Axes>"
      ]
     },
     "metadata": {
      "needs_background": "light"
     },
     "output_type": "display_data"
    }
   ],
   "source": [
    "#prediction vs real data\n",
    "\n",
    "plt.figure(figsize=(15,8))\n",
    "plt.subplot(1,1,1)\n",
    "sns.distplot(y_test, kde=False, color=\"black\", label=\"Test\")\n",
    "\n",
    "plt.subplot(1,1,1)\n",
    "sns.distplot(knn_pred, kde=False, color=\"indigo\", label=\"Prediction\")\n",
    "plt.legend()\n",
    "plt.title(\"Test VS Prediction\")"
   ]
  },
  {
   "cell_type": "markdown",
   "id": "bac65954",
   "metadata": {},
   "source": [
    "From the above graph we can clearly identify that the KNN Algorithm is not performing good. The Actual Data (Black) and Predicted values (Purple) are different. We cab conclude that KNN is not a good choice for Trip duration prediction."
   ]
  },
  {
   "cell_type": "code",
   "execution_count": null,
   "id": "98e50399",
   "metadata": {},
   "outputs": [],
   "source": []
  }
 ],
 "metadata": {
  "kernelspec": {
   "display_name": "Python 3 (ipykernel)",
   "language": "python",
   "name": "python3"
  },
  "language_info": {
   "codemirror_mode": {
    "name": "ipython",
    "version": 3
   },
   "file_extension": ".py",
   "mimetype": "text/x-python",
   "name": "python",
   "nbconvert_exporter": "python",
   "pygments_lexer": "ipython3",
   "version": "3.9.7"
  }
 },
 "nbformat": 4,
 "nbformat_minor": 5
}
